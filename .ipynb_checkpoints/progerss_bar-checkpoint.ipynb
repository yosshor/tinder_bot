{
 "cells": [
  {
   "cell_type": "code",
   "execution_count": 8,
   "metadata": {},
   "outputs": [
    {
     "name": "stderr",
     "output_type": "stream",
     "text": [
      "UsageError: Line magic function `%capture` not found (But cell magic `%%capture` exists, did you mean that instead?).\n"
     ]
    }
   ],
   "source": [
    "from tqdm import tqdm_notebook as tqdm\n",
    "from time import sleep\n",
    "%capture\n",
    "for i in tnrange(3, desc = '1_loop'):\n",
    "    for d in tnrange(100, desc = '2_loop', leave = False):\n",
    "        sleep(0.001)\n",
    "        "
   ]
  },
  {
   "cell_type": "code",
   "execution_count": 9,
   "metadata": {},
   "outputs": [
    {
     "name": "stderr",
     "output_type": "stream",
     "text": [
      "/home/yoss/anaconda3/lib/python3.7/site-packages/ipykernel_launcher.py:2: TqdmDeprecationWarning: This function will be removed in tqdm==5.0.0\n",
      "Please use `tqdm.notebook.tqdm` instead of `tqdm.tqdm_notebook`\n",
      "  \n"
     ]
    },
    {
     "data": {
      "application/vnd.jupyter.widget-view+json": {
       "model_id": "c02c7eeecf2b4369b061ae77cc84241d",
       "version_major": 2,
       "version_minor": 0
      },
      "text/plain": [
       "HBox(children=(FloatProgress(value=1.0, bar_style='info', max=1.0), HTML(value='')))"
      ]
     },
     "metadata": {},
     "output_type": "display_data"
    }
   ],
   "source": [
    "from tqdm import tqdm_notebook as tqdm\n",
    "tqdm().pandas()"
   ]
  },
  {
   "cell_type": "code",
   "execution_count": 12,
   "metadata": {},
   "outputs": [
    {
     "name": "stderr",
     "output_type": "stream",
     "text": [
      "/home/yoss/anaconda3/lib/python3.7/site-packages/ipykernel_launcher.py:2: TqdmDeprecationWarning: This function will be removed in tqdm==5.0.0\n",
      "Please use `tqdm.notebook.tqdm` instead of `tqdm.tqdm_notebook`\n",
      "  \n"
     ]
    },
    {
     "data": {
      "application/vnd.jupyter.widget-view+json": {
       "model_id": "84f5b799ffdd45f1ad1f2c37e0728ca9",
       "version_major": 2,
       "version_minor": 0
      },
      "text/plain": [
       "HBox(children=(FloatProgress(value=0.0), HTML(value='')))"
      ]
     },
     "metadata": {},
     "output_type": "display_data"
    },
    {
     "name": "stdout",
     "output_type": "stream",
     "text": [
      "\n"
     ]
    }
   ],
   "source": [
    "my_list = list(range(100))\n",
    "for x in tqdm(my_list):\n",
    "    sleep(0.01)\n",
    "    pass"
   ]
  },
  {
   "cell_type": "code",
   "execution_count": 14,
   "metadata": {},
   "outputs": [
    {
     "name": "stderr",
     "output_type": "stream",
     "text": [
      "/home/yoss/anaconda3/lib/python3.7/site-packages/ipykernel_launcher.py:2: TqdmDeprecationWarning: This function will be removed in tqdm==5.0.0\n",
      "Please use `tqdm.notebook.tqdm` instead of `tqdm.tqdm_notebook`\n",
      "  \n"
     ]
    },
    {
     "data": {
      "application/vnd.jupyter.widget-view+json": {
       "model_id": "d611991709d144e3a969b94fcb6dcb82",
       "version_major": 2,
       "version_minor": 0
      },
      "text/plain": [
       "HBox(children=(FloatProgress(value=0.0), HTML(value='')))"
      ]
     },
     "metadata": {},
     "output_type": "display_data"
    },
    {
     "name": "stdout",
     "output_type": "stream",
     "text": [
      "\n"
     ]
    }
   ],
   "source": [
    "my_list = list(range(100))\n",
    "with tqdm(total=len(my_list)) as pbar:\n",
    "    for x in my_list:\n",
    "        pbar.update(1)"
   ]
  },
  {
   "cell_type": "code",
   "execution_count": 17,
   "metadata": {},
   "outputs": [
    {
     "name": "stderr",
     "output_type": "stream",
     "text": [
      "/home/yoss/anaconda3/lib/python3.7/site-packages/ipykernel_launcher.py:1: TqdmDeprecationWarning: This function will be removed in tqdm==5.0.0\n",
      "Please use `tqdm.notebook.tqdm` instead of `tqdm.tqdm_notebook`\n",
      "  \"\"\"Entry point for launching an IPython kernel.\n"
     ]
    },
    {
     "data": {
      "application/vnd.jupyter.widget-view+json": {
       "model_id": "50dcc05226ed41b880b7ecfee54858a0",
       "version_major": 2,
       "version_minor": 0
      },
      "text/plain": [
       "HBox(children=(FloatProgress(value=0.0, max=4.0), HTML(value='')))"
      ]
     },
     "metadata": {},
     "output_type": "display_data"
    },
    {
     "name": "stdout",
     "output_type": "stream",
     "text": [
      "\n"
     ]
    }
   ],
   "source": [
    "pbar = tqdm([\"a\", \"b\", \"c\", \"d\"])\n",
    "for char in pbar:\n",
    "    sleep(0.25)\n",
    "    pbar.set_description(\"Processing %s\" % char)"
   ]
  },
  {
   "cell_type": "code",
   "execution_count": 18,
   "metadata": {},
   "outputs": [
    {
     "name": "stderr",
     "output_type": "stream",
     "text": [
      "/home/yoss/anaconda3/lib/python3.7/site-packages/ipykernel_launcher.py:1: TqdmDeprecationWarning: This function will be removed in tqdm==5.0.0\n",
      "Please use `tqdm.notebook.tqdm` instead of `tqdm.tqdm_notebook`\n",
      "  \"\"\"Entry point for launching an IPython kernel.\n"
     ]
    },
    {
     "data": {
      "application/vnd.jupyter.widget-view+json": {
       "model_id": "522896f70cea424682ca92e9ee4d6ce6",
       "version_major": 2,
       "version_minor": 0
      },
      "text/plain": [
       "HBox(children=(FloatProgress(value=0.0), HTML(value='')))"
      ]
     },
     "metadata": {},
     "output_type": "display_data"
    },
    {
     "name": "stdout",
     "output_type": "stream",
     "text": [
      "\n"
     ]
    }
   ],
   "source": [
    "with tqdm(total=100) as pbar:\n",
    "    for i in range(10):\n",
    "        sleep(0.1)\n",
    "        pbar.update(10)"
   ]
  },
  {
   "cell_type": "code",
   "execution_count": 22,
   "metadata": {},
   "outputs": [
    {
     "name": "stderr",
     "output_type": "stream",
     "text": [
      "GEN 9: 100%|██████████| 10/10 [00:01<00:00,  8.96it/s, gen=469, loss=0.125, lst=[1, 2], str=h]\n",
      "Batch      4.5\n"
     ]
    }
   ],
   "source": [
    "\n",
    "from tqdm import tqdm, trange\n",
    "from random import random, randint\n",
    "from time import sleep\n",
    "\n",
    "with trange(10) as t:\n",
    "    for i in t:\n",
    "        # Description will be displayed on the left\n",
    "        t.set_description('GEN %i' % i)\n",
    "        # Postfix will be displayed on the right,\n",
    "        # formatted automatically based on argument's datatype\n",
    "        t.set_postfix(loss=random(), gen=randint(1,999), str='h',\n",
    "                      lst=[1, 2])\n",
    "        sleep(0.1)\n",
    "        \n",
    "\n",
    "with tqdm(total=10, bar_format=\"{postfix[0]} {postfix[1][value]:>8.2g}\",\n",
    "          postfix=[\"Batch\", dict(value=0)]) as t:\n",
    "    for i in range(10):\n",
    "        sleep(0.1)\n",
    "        t.postfix[1][\"value\"] = i / 2\n",
    "        t.update()"
   ]
  },
  {
   "cell_type": "code",
   "execution_count": 23,
   "metadata": {},
   "outputs": [
    {
     "name": "stderr",
     "output_type": "stream",
     "text": [
      "Batch      4.5\n"
     ]
    }
   ],
   "source": [
    "\n",
    "with tqdm(total=10, bar_format=\"{postfix[0]} {postfix[1][value]:>8.2g}\",\n",
    "          postfix=[\"Batch\", dict(value=0)]) as t:\n",
    "    for i in range(10):\n",
    "        sleep(0.1)\n",
    "        t.postfix[1][\"value\"] = i / 2\n",
    "        t.update()"
   ]
  },
  {
   "cell_type": "code",
   "execution_count": 25,
   "metadata": {},
   "outputs": [
    {
     "name": "stderr",
     "output_type": "stream",
     "text": [
      "00:00 in total: 0%|          | 0/9 [00:00<?, ?it/s]\n"
     ]
    }
   ],
   "source": [
    "from tqdm import tqdm\n",
    "class TqdmExtraFormat(tqdm):\n",
    "    \"\"\"Provides a `total_time` format parameter\"\"\"\n",
    "    @property\n",
    "    def format_dict(self):\n",
    "        d = super(TqdmExtraFormat, self).format_dict\n",
    "        total_time = d[\"elapsed\"] * (d[\"total\"] or 0) / max(d[\"n\"], 1)\n",
    "        d.update(total_time=self.format_interval(total_time) + \" in total\")\n",
    "        return d\n",
    "\n",
    "for i in TqdmExtraFormat(\n",
    "      range(9), ascii=\" .oO0\",\n",
    "      bar_format=\"{total_time}: {percentage:.0f}%|{bar}{r_bar}\"):\n",
    "    if i == 4:\n",
    "\n",
    "        break"
   ]
  },
  {
   "cell_type": "code",
   "execution_count": 26,
   "metadata": {},
   "outputs": [
    {
     "data": {
      "application/vnd.jupyter.widget-view+json": {
       "model_id": "f7364b6e5e6a427eab350c0d2e5b6b0d",
       "version_major": 2,
       "version_minor": 0
      },
      "text/plain": [
       "HBox(children=(FloatProgress(value=0.0, description='1st loop', max=4.0, style=ProgressStyle(description_width…"
      ]
     },
     "metadata": {},
     "output_type": "display_data"
    },
    {
     "data": {
      "application/vnd.jupyter.widget-view+json": {
       "model_id": "5a68c9a971f6467b93ed51f3d74bc36e",
       "version_major": 2,
       "version_minor": 0
      },
      "text/plain": [
       "HBox(children=(FloatProgress(value=0.0, description='2nd loop', max=5.0, style=ProgressStyle(description_width…"
      ]
     },
     "metadata": {},
     "output_type": "display_data"
    },
    {
     "data": {
      "application/vnd.jupyter.widget-view+json": {
       "model_id": "",
       "version_major": 2,
       "version_minor": 0
      },
      "text/plain": [
       "HBox(children=(FloatProgress(value=0.0, description='3rd loop', max=50.0, style=ProgressStyle(description_widt…"
      ]
     },
     "metadata": {},
     "output_type": "display_data"
    },
    {
     "data": {
      "application/vnd.jupyter.widget-view+json": {
       "model_id": "",
       "version_major": 2,
       "version_minor": 0
      },
      "text/plain": [
       "HBox(children=(FloatProgress(value=0.0, description='3rd loop', max=50.0, style=ProgressStyle(description_widt…"
      ]
     },
     "metadata": {},
     "output_type": "display_data"
    },
    {
     "data": {
      "application/vnd.jupyter.widget-view+json": {
       "model_id": "",
       "version_major": 2,
       "version_minor": 0
      },
      "text/plain": [
       "HBox(children=(FloatProgress(value=0.0, description='3rd loop', max=50.0, style=ProgressStyle(description_widt…"
      ]
     },
     "metadata": {},
     "output_type": "display_data"
    },
    {
     "data": {
      "application/vnd.jupyter.widget-view+json": {
       "model_id": "",
       "version_major": 2,
       "version_minor": 0
      },
      "text/plain": [
       "HBox(children=(FloatProgress(value=0.0, description='3rd loop', max=50.0, style=ProgressStyle(description_widt…"
      ]
     },
     "metadata": {},
     "output_type": "display_data"
    },
    {
     "data": {
      "application/vnd.jupyter.widget-view+json": {
       "model_id": "",
       "version_major": 2,
       "version_minor": 0
      },
      "text/plain": [
       "HBox(children=(FloatProgress(value=0.0, description='3rd loop', max=50.0, style=ProgressStyle(description_widt…"
      ]
     },
     "metadata": {},
     "output_type": "display_data"
    },
    {
     "name": "stdout",
     "output_type": "stream",
     "text": [
      "\n"
     ]
    },
    {
     "data": {
      "application/vnd.jupyter.widget-view+json": {
       "model_id": "21ff69f1af2e4c7d985e10862102611b",
       "version_major": 2,
       "version_minor": 0
      },
      "text/plain": [
       "HBox(children=(FloatProgress(value=0.0, description='2nd loop', max=5.0, style=ProgressStyle(description_width…"
      ]
     },
     "metadata": {},
     "output_type": "display_data"
    },
    {
     "data": {
      "application/vnd.jupyter.widget-view+json": {
       "model_id": "",
       "version_major": 2,
       "version_minor": 0
      },
      "text/plain": [
       "HBox(children=(FloatProgress(value=0.0, description='3rd loop', max=50.0, style=ProgressStyle(description_widt…"
      ]
     },
     "metadata": {},
     "output_type": "display_data"
    },
    {
     "data": {
      "application/vnd.jupyter.widget-view+json": {
       "model_id": "",
       "version_major": 2,
       "version_minor": 0
      },
      "text/plain": [
       "HBox(children=(FloatProgress(value=0.0, description='3rd loop', max=50.0, style=ProgressStyle(description_widt…"
      ]
     },
     "metadata": {},
     "output_type": "display_data"
    },
    {
     "data": {
      "application/vnd.jupyter.widget-view+json": {
       "model_id": "",
       "version_major": 2,
       "version_minor": 0
      },
      "text/plain": [
       "HBox(children=(FloatProgress(value=0.0, description='3rd loop', max=50.0, style=ProgressStyle(description_widt…"
      ]
     },
     "metadata": {},
     "output_type": "display_data"
    },
    {
     "data": {
      "application/vnd.jupyter.widget-view+json": {
       "model_id": "",
       "version_major": 2,
       "version_minor": 0
      },
      "text/plain": [
       "HBox(children=(FloatProgress(value=0.0, description='3rd loop', max=50.0, style=ProgressStyle(description_widt…"
      ]
     },
     "metadata": {},
     "output_type": "display_data"
    },
    {
     "data": {
      "application/vnd.jupyter.widget-view+json": {
       "model_id": "",
       "version_major": 2,
       "version_minor": 0
      },
      "text/plain": [
       "HBox(children=(FloatProgress(value=0.0, description='3rd loop', max=50.0, style=ProgressStyle(description_widt…"
      ]
     },
     "metadata": {},
     "output_type": "display_data"
    },
    {
     "name": "stdout",
     "output_type": "stream",
     "text": [
      "\n"
     ]
    },
    {
     "data": {
      "application/vnd.jupyter.widget-view+json": {
       "model_id": "e64a06bbe9f241859425049929aada88",
       "version_major": 2,
       "version_minor": 0
      },
      "text/plain": [
       "HBox(children=(FloatProgress(value=0.0, description='2nd loop', max=5.0, style=ProgressStyle(description_width…"
      ]
     },
     "metadata": {},
     "output_type": "display_data"
    },
    {
     "data": {
      "application/vnd.jupyter.widget-view+json": {
       "model_id": "",
       "version_major": 2,
       "version_minor": 0
      },
      "text/plain": [
       "HBox(children=(FloatProgress(value=0.0, description='3rd loop', max=50.0, style=ProgressStyle(description_widt…"
      ]
     },
     "metadata": {},
     "output_type": "display_data"
    },
    {
     "data": {
      "application/vnd.jupyter.widget-view+json": {
       "model_id": "",
       "version_major": 2,
       "version_minor": 0
      },
      "text/plain": [
       "HBox(children=(FloatProgress(value=0.0, description='3rd loop', max=50.0, style=ProgressStyle(description_widt…"
      ]
     },
     "metadata": {},
     "output_type": "display_data"
    },
    {
     "data": {
      "application/vnd.jupyter.widget-view+json": {
       "model_id": "",
       "version_major": 2,
       "version_minor": 0
      },
      "text/plain": [
       "HBox(children=(FloatProgress(value=0.0, description='3rd loop', max=50.0, style=ProgressStyle(description_widt…"
      ]
     },
     "metadata": {},
     "output_type": "display_data"
    },
    {
     "data": {
      "application/vnd.jupyter.widget-view+json": {
       "model_id": "",
       "version_major": 2,
       "version_minor": 0
      },
      "text/plain": [
       "HBox(children=(FloatProgress(value=0.0, description='3rd loop', max=50.0, style=ProgressStyle(description_widt…"
      ]
     },
     "metadata": {},
     "output_type": "display_data"
    },
    {
     "data": {
      "application/vnd.jupyter.widget-view+json": {
       "model_id": "",
       "version_major": 2,
       "version_minor": 0
      },
      "text/plain": [
       "HBox(children=(FloatProgress(value=0.0, description='3rd loop', max=50.0, style=ProgressStyle(description_widt…"
      ]
     },
     "metadata": {},
     "output_type": "display_data"
    },
    {
     "name": "stdout",
     "output_type": "stream",
     "text": [
      "\n"
     ]
    },
    {
     "data": {
      "application/vnd.jupyter.widget-view+json": {
       "model_id": "012c593a271d47beb718fc22e903d803",
       "version_major": 2,
       "version_minor": 0
      },
      "text/plain": [
       "HBox(children=(FloatProgress(value=0.0, description='2nd loop', max=5.0, style=ProgressStyle(description_width…"
      ]
     },
     "metadata": {},
     "output_type": "display_data"
    },
    {
     "data": {
      "application/vnd.jupyter.widget-view+json": {
       "model_id": "",
       "version_major": 2,
       "version_minor": 0
      },
      "text/plain": [
       "HBox(children=(FloatProgress(value=0.0, description='3rd loop', max=50.0, style=ProgressStyle(description_widt…"
      ]
     },
     "metadata": {},
     "output_type": "display_data"
    },
    {
     "data": {
      "application/vnd.jupyter.widget-view+json": {
       "model_id": "",
       "version_major": 2,
       "version_minor": 0
      },
      "text/plain": [
       "HBox(children=(FloatProgress(value=0.0, description='3rd loop', max=50.0, style=ProgressStyle(description_widt…"
      ]
     },
     "metadata": {},
     "output_type": "display_data"
    },
    {
     "data": {
      "application/vnd.jupyter.widget-view+json": {
       "model_id": "",
       "version_major": 2,
       "version_minor": 0
      },
      "text/plain": [
       "HBox(children=(FloatProgress(value=0.0, description='3rd loop', max=50.0, style=ProgressStyle(description_widt…"
      ]
     },
     "metadata": {},
     "output_type": "display_data"
    },
    {
     "data": {
      "application/vnd.jupyter.widget-view+json": {
       "model_id": "",
       "version_major": 2,
       "version_minor": 0
      },
      "text/plain": [
       "HBox(children=(FloatProgress(value=0.0, description='3rd loop', max=50.0, style=ProgressStyle(description_widt…"
      ]
     },
     "metadata": {},
     "output_type": "display_data"
    },
    {
     "data": {
      "application/vnd.jupyter.widget-view+json": {
       "model_id": "",
       "version_major": 2,
       "version_minor": 0
      },
      "text/plain": [
       "HBox(children=(FloatProgress(value=0.0, description='3rd loop', max=50.0, style=ProgressStyle(description_widt…"
      ]
     },
     "metadata": {},
     "output_type": "display_data"
    },
    {
     "name": "stdout",
     "output_type": "stream",
     "text": [
      "\n",
      "\n"
     ]
    }
   ],
   "source": [
    "from tqdm.auto import trange\n",
    "from time import sleep\n",
    "\n",
    "for i in trange(4, desc='1st loop'):\n",
    "    for j in trange(5, desc='2nd loop'):\n",
    "        for k in trange(50, desc='3rd loop', leave=False):\n",
    "            sleep(0.01)"
   ]
  },
  {
   "cell_type": "code",
   "execution_count": 28,
   "metadata": {},
   "outputs": [
    {
     "name": "stderr",
     "output_type": "stream",
     "text": [
      "#0, est. 2.50s:   0%|          | 0/5000 [00:00<?, ?it/s]\n",
      "#1, est. 1.70s:   0%|          | 0/5000 [00:00<?, ?it/s]\u001b[A\n",
      "\n",
      "\n",
      "#5, est. 0.71s:   0%|          | 0/5000 [00:00<?, ?it/s]\u001b[A\u001b[A\u001b[A\n",
      "\n",
      "#6, est. 0.62s:   0%|          | 0/5000 [00:00<?, ?it/s]\u001b[A\u001b[A\n",
      "\n",
      "\n",
      "\n",
      "#2, est. 1.20s:   0%|          | 0/5000 [00:00<?, ?it/s]\u001b[A\u001b[A\u001b[A\u001b[A\n",
      "\n",
      "\n",
      "\n",
      "\n",
      "#4, est. 0.83s:   0%|          | 0/5000 [00:00<?, ?it/s]\u001b[A\u001b[A\u001b[A\u001b[A\u001b[A\n",
      "\n",
      "\n",
      "\n",
      "\n",
      "\n",
      "#3, est. 1.00s:   0%|          | 0/5000 [00:00<?, ?it/s]\u001b[A\u001b[A\u001b[A\u001b[A\u001b[A\u001b[A\n",
      "\n",
      "\n",
      "\n",
      "\n",
      "\n",
      "\n",
      "#8, est. 0.50s:   0%|          | 0/5000 [00:00<?, ?it/s]\u001b[A\u001b[A\u001b[A\u001b[A\u001b[A\u001b[A\u001b[A\n",
      "\n",
      "\n",
      "\n",
      "\n",
      "\n",
      "\n",
      "\n",
      "#0, est. 2.50s:   2%|▏         | 77/5000 [00:00<00:06, 769.16it/s][A\u001b[A\u001b[A\u001b[A\u001b[A\n",
      "#1, est. 1.70s:   2%|▏         | 109/5000 [00:00<00:04, 1087.48it/s]\u001b[A\n",
      "\n",
      "\n",
      "#5, est. 0.71s:   3%|▎         | 145/5000 [00:00<00:03, 1404.13it/s]\u001b[A\u001b[A\u001b[A\n",
      "\n",
      "#6, est. 0.62s:   2%|▏         | 110/5000 [00:00<00:04, 1073.27it/s]\u001b[A\u001b[A\n",
      "\n",
      "\n",
      "\n",
      "#2, est. 1.20s:   2%|▏         | 109/5000 [00:00<00:04, 1057.16it/s]\u001b[A\u001b[A\u001b[A\u001b[A\n",
      "\n",
      "\n",
      "\n",
      "\n",
      "\n",
      "\n",
      "\n",
      "#7, est. 0.56s:   2%|▏         | 92/5000 [00:00<00:05, 918.61it/s]\u001b[A\u001b[A\u001b[A\u001b[A\u001b[A\u001b[A\u001b[A\u001b[A\n",
      "\n",
      "\n",
      "\n",
      "\n",
      "\n",
      "#3, est. 1.00s:   2%|▏         | 114/5000 [00:00<00:04, 1137.69it/s]\u001b[A\u001b[A\u001b[A\u001b[A\u001b[A\u001b[A\n",
      "\n",
      "\n",
      "\n",
      "\n",
      "\n",
      "\n",
      "#0, est. 2.50s:   2%|▏         | 111/5000 [00:00<00:08, 546.83it/s]]\u001b[A\u001b[A\u001b[A\u001b[A\u001b[A\u001b[A\u001b[A\n",
      "#1, est. 1.70s:   3%|▎         | 142/5000 [00:00<00:07, 618.59it/s] \u001b[A\n",
      "\n",
      "\n",
      "\n",
      "\n",
      "#4, est. 0.83s:   3%|▎         | 139/5000 [00:00<00:03, 1346.64it/s]\u001b[A\u001b[A\u001b[A\u001b[A\u001b[A\n",
      "\n",
      "#6, est. 0.62s:   3%|▎         | 148/5000 [00:00<00:07, 692.87it/s] \u001b[A\u001b[A\n",
      "\n",
      "\n",
      "#5, est. 0.71s:   4%|▍         | 188/5000 [00:00<00:06, 775.29it/s] \u001b[A\u001b[A\u001b[A\n",
      "\n",
      "\n",
      "\n",
      "#2, est. 1.20s:   3%|▎         | 141/5000 [00:00<00:07, 614.97it/s] \u001b[A\u001b[A\u001b[A\u001b[A\n",
      "\n",
      "\n",
      "\n",
      "\n",
      "\n",
      "#3, est. 1.00s:   3%|▎         | 149/5000 [00:00<00:08, 582.30it/s] \u001b[A\u001b[A\u001b[A\u001b[A\u001b[A\u001b[A\n",
      "\n",
      "\n",
      "\n",
      "\n",
      "\n",
      "\n",
      "#0, est. 2.50s:   3%|▎         | 137/5000 [00:00<00:12, 404.42it/s] \u001b[A\u001b[A\u001b[A\u001b[A\u001b[A\u001b[A\u001b[A\n",
      "#1, est. 1.70s:   4%|▎         | 175/5000 [00:00<00:10, 477.38it/s]\u001b[A\n",
      "\n",
      "\n",
      "\n",
      "\n",
      "\n",
      "\n",
      "\n",
      "#7, est. 0.56s:   5%|▌         | 257/5000 [00:00<00:04, 1059.51it/s]\u001b[A\u001b[A\u001b[A\u001b[A\u001b[A\u001b[A\u001b[A\u001b[A\n",
      "\n",
      "\n",
      "\n",
      "\n",
      "#4, est. 0.83s:   4%|▎         | 180/5000 [00:00<00:08, 544.52it/s] \u001b[A\u001b[A\u001b[A\u001b[A\u001b[A\n",
      "\n",
      "#6, est. 0.62s:   4%|▎         | 182/5000 [00:00<00:09, 492.41it/s]\u001b[A\u001b[A\n",
      "\n",
      "\n",
      "#5, est. 0.71s:   5%|▍         | 229/5000 [00:00<00:08, 554.50it/s]\u001b[A\u001b[A\u001b[A\n",
      "\n",
      "\n",
      "\n",
      "#2, est. 1.20s:   3%|▎         | 173/5000 [00:00<00:10, 451.00it/s]\u001b[A\u001b[A\u001b[A\u001b[A\n",
      "\n",
      "\n",
      "\n",
      "\n",
      "\n",
      "#3, est. 1.00s:   4%|▍         | 205/5000 [00:00<00:08, 575.27it/s]\u001b[A\u001b[A\u001b[A\u001b[A\u001b[A\u001b[A\n",
      "\n",
      "\n",
      "\n",
      "\n",
      "\n",
      "\n",
      "#0, est. 2.50s:   4%|▎         | 183/5000 [00:00<00:11, 418.67it/s]\u001b[A\u001b[A\u001b[A\u001b[A\u001b[A\u001b[A\u001b[A\n",
      "#1, est. 1.70s:   5%|▍         | 246/5000 [00:00<00:08, 529.39it/s]\u001b[A\n",
      "\n",
      "\n",
      "\n",
      "\n",
      "\n",
      "\n",
      "\n",
      "#7, est. 0.56s:   7%|▋         | 361/5000 [00:00<00:04, 1053.42it/s]\u001b[A\u001b[A\u001b[A\u001b[A\u001b[A\u001b[A\u001b[A\u001b[A\n",
      "\n",
      "\n",
      "\n",
      "\n",
      "#4, est. 0.83s:   5%|▌         | 272/5000 [00:00<00:07, 618.60it/s]\u001b[A\u001b[A\u001b[A\u001b[A\u001b[A\n",
      "\n",
      "#6, est. 0.62s:   6%|▌         | 309/5000 [00:00<00:07, 598.06it/s]\u001b[A\u001b[A\n",
      "\n",
      "\n",
      "#5, est. 0.71s:   7%|▋         | 344/5000 [00:00<00:07, 656.35it/s]\u001b[A\u001b[A\u001b[A\n",
      "\n",
      "\n",
      "\n",
      "#2, est. 1.20s:   5%|▍         | 239/5000 [00:00<00:09, 498.27it/s]\u001b[A\u001b[A\u001b[A\u001b[A\n",
      "\n",
      "\n",
      "\n",
      "\n",
      "\n",
      "#3, est. 1.00s:   6%|▌         | 292/5000 [00:00<00:07, 640.32it/s]\u001b[A\u001b[A\u001b[A\u001b[A\u001b[A\u001b[A\n",
      "\n",
      "\n",
      "\n",
      "\n",
      "\n",
      "\n",
      "#0, est. 2.50s:   5%|▍         | 240/5000 [00:00<00:10, 454.55it/s]\u001b[A\u001b[A\u001b[A\u001b[A\u001b[A\u001b[A\u001b[A\n",
      "#1, est. 1.70s:   6%|▋         | 317/5000 [00:00<00:08, 572.41it/s]\u001b[A\n",
      "\n",
      "\n",
      "\n",
      "\n",
      "\n",
      "\n",
      "\n",
      "#7, est. 0.56s:   9%|▉         | 453/5000 [00:00<00:04, 1009.38it/s]\u001b[A\u001b[A\u001b[A\u001b[A\u001b[A\u001b[A\u001b[A\u001b[A\n",
      "\n",
      "\n",
      "\n",
      "\n",
      "#4, est. 0.83s:   7%|▋         | 363/5000 [00:00<00:06, 683.88it/s]\u001b[A\u001b[A\u001b[A\u001b[A\u001b[A\n",
      "\n",
      "#6, est. 0.62s:   9%|▉         | 444/5000 [00:00<00:06, 717.84it/s]\u001b[A\u001b[A\n",
      "\n",
      "\n",
      "#5, est. 0.71s:  10%|▉         | 485/5000 [00:00<00:05, 781.59it/s]\u001b[A\u001b[A\u001b[A\n",
      "\n",
      "\n",
      "\n",
      "#2, est. 1.20s:   7%|▋         | 344/5000 [00:00<00:07, 591.44it/s]\u001b[A\u001b[A\u001b[A\u001b[A\n",
      "\n",
      "\n",
      "\n",
      "\n",
      "\n",
      "#3, est. 1.00s:   8%|▊         | 415/5000 [00:00<00:06, 747.45it/s]\u001b[A\u001b[A\u001b[A\u001b[A\u001b[A\u001b[A\n",
      "\n",
      "\n",
      "\n",
      "\n",
      "\n",
      "\n",
      "#0, est. 2.50s:   6%|▋         | 320/5000 [00:00<00:09, 519.37it/s]\u001b[A\u001b[A\u001b[A\u001b[A\u001b[A\u001b[A\u001b[A\n",
      "#1, est. 1.70s:   8%|▊         | 413/5000 [00:00<00:07, 650.99it/s]\u001b[A\n",
      "\n",
      "\n",
      "\n",
      "\n",
      "\n",
      "\n",
      "\n",
      "#7, est. 0.56s:  11%|█▏        | 570/5000 [00:00<00:04, 1052.23it/s]\u001b[A\u001b[A\u001b[A\u001b[A\u001b[A\u001b[A\u001b[A\u001b[A\n",
      "\n",
      "\n",
      "\n",
      "\n",
      "#4, est. 0.83s:   9%|▉         | 468/5000 [00:00<00:05, 763.28it/s]\u001b[A\u001b[A\u001b[A\u001b[A\u001b[A\n",
      "\n",
      "#6, est. 0.62s:  12%|█▏        | 576/5000 [00:00<00:05, 815.07it/s]\u001b[A\u001b[A\n",
      "\n",
      "\n",
      "#5, est. 0.71s:  12%|█▏        | 595/5000 [00:00<00:05, 846.07it/s]\u001b[A\u001b[A\u001b[A\n",
      "\n",
      "\n",
      "\n",
      "#2, est. 1.20s:   8%|▊         | 420/5000 [00:00<00:07, 633.39it/s]\u001b[A\u001b[A\u001b[A\u001b[A\n",
      "\n",
      "\n",
      "\n",
      "\n",
      "\n",
      "#3, est. 1.00s:  10%|█         | 522/5000 [00:00<00:05, 819.70it/s]\u001b[A\u001b[A\u001b[A\u001b[A\u001b[A\u001b[A\n",
      "\n",
      "\n",
      "\n",
      "\n",
      "\n",
      "\n",
      "#0, est. 2.50s:   8%|▊         | 384/5000 [00:00<00:08, 549.73it/s]\u001b[A\u001b[A\u001b[A\u001b[A\u001b[A\u001b[A\u001b[A\n",
      "#1, est. 1.70s:  10%|▉         | 487/5000 [00:00<00:06, 675.34it/s]\u001b[A\n",
      "\n",
      "\n",
      "\n",
      "\n",
      "\n",
      "\n",
      "\n",
      "#7, est. 0.56s:  14%|█▍        | 706/5000 [00:00<00:03, 1128.80it/s]\u001b[A\u001b[A\u001b[A\u001b[A\u001b[A\u001b[A\u001b[A\u001b[A\n",
      "\n",
      "\n",
      "\n",
      "\n",
      "#4, est. 0.83s:  12%|█▏        | 597/5000 [00:00<00:05, 867.63it/s]\u001b[A\u001b[A\u001b[A\u001b[A\u001b[A\n",
      "\n",
      "#6, est. 0.62s:  15%|█▌        | 750/5000 [00:00<00:04, 969.67it/s]\u001b[A\u001b[A\n",
      "\n",
      "\n",
      "#5, est. 0.71s:  15%|█▌        | 760/5000 [00:00<00:04, 990.82it/s]\u001b[A\u001b[A\u001b[A\n",
      "\n",
      "\n",
      "\n",
      "#2, est. 1.20s:  10%|█         | 525/5000 [00:00<00:06, 711.81it/s]\u001b[A\u001b[A\u001b[A\u001b[A\n",
      "\n",
      "\n",
      "\n",
      "\n",
      "\n",
      "#3, est. 1.00s:  13%|█▎        | 663/5000 [00:00<00:04, 937.19it/s]\u001b[A\u001b[A\u001b[A\u001b[A\u001b[A\u001b[A\n",
      "\n",
      "\n",
      "\n",
      "\n",
      "\n",
      "\n",
      "#0, est. 2.50s:   9%|▉         | 456/5000 [00:00<00:07, 591.59it/s]\u001b[A\u001b[A\u001b[A\u001b[A\u001b[A\u001b[A\u001b[A\n",
      "#1, est. 1.70s:  11%|█▏        | 566/5000 [00:00<00:06, 706.01it/s]\u001b[A\n",
      "\n",
      "\n",
      "\n",
      "\n",
      "\n",
      "\n",
      "\n",
      "#7, est. 0.56s:  17%|█▋        | 836/5000 [00:00<00:03, 1173.34it/s]\u001b[A\u001b[A\u001b[A\u001b[A\u001b[A\u001b[A\u001b[A\u001b[A\n",
      "\n",
      "\n",
      "\n",
      "\n",
      "#4, est. 0.83s:  14%|█▍        | 708/5000 [00:00<00:04, 927.88it/s]\u001b[A\u001b[A\u001b[A\u001b[A\u001b[A\n",
      "\n",
      "#6, est. 0.62s:  17%|█▋        | 868/5000 [00:00<00:04, 1024.03it/s]\u001b[A\u001b[A\n",
      "\n",
      "\n",
      "\n",
      "#2, est. 1.20s:  12%|█▏        | 601/5000 [00:00<00:06, 725.08it/s]\u001b[A\u001b[A\u001b[A\u001b[A\n",
      "\n",
      "\n",
      "#5, est. 0.71s:  17%|█▋        | 874/5000 [00:00<00:04, 986.90it/s]\u001b[A\u001b[A\u001b[A\n",
      "\n",
      "\n",
      "\n",
      "\n",
      "\n",
      "#3, est. 1.00s:  15%|█▌        | 764/5000 [00:00<00:04, 951.53it/s]\u001b[A\u001b[A\u001b[A\u001b[A\u001b[A\u001b[A\n",
      "\n",
      "\n",
      "\n",
      "\n",
      "\n",
      "\n",
      "#0, est. 2.50s:  11%|█         | 527/5000 [00:00<00:07, 621.95it/s]]\u001b[A\u001b[A\u001b[A\u001b[A\u001b[A\u001b[A\u001b[A\n",
      "#1, est. 1.70s:  13%|█▎        | 659/5000 [00:00<00:05, 760.55it/s]\u001b[A\n",
      "\n",
      "\n",
      "\n",
      "\n",
      "\n",
      "\n",
      "\n",
      "#7, est. 0.56s:  19%|█▉        | 964/5000 [00:00<00:03, 1201.99it/s]\u001b[A\u001b[A\u001b[A\u001b[A\u001b[A\u001b[A\u001b[A\u001b[A\n",
      "\n",
      "\n",
      "\n",
      "\n",
      "#4, est. 0.83s:  17%|█▋        | 830/5000 [00:00<00:04, 999.27it/s]\u001b[A\u001b[A\u001b[A\u001b[A\u001b[A\n",
      "\n",
      "#6, est. 0.62s:  21%|██        | 1054/5000 [00:00<00:03, 1183.42it/s]\u001b[A\u001b[A\n",
      "\n",
      "\n",
      "\n",
      "#2, est. 1.20s:  15%|█▍        | 737/5000 [00:00<00:05, 842.92it/s]\u001b[A\u001b[A\u001b[A\u001b[A\n",
      "\n",
      "\n",
      "#5, est. 0.71s:  22%|██▏       | 1083/5000 [00:00<00:03, 1172.42it/s]\u001b[A\u001b[A\u001b[A\n",
      "\n",
      "\n",
      "\n",
      "\n",
      "\n",
      "#3, est. 1.00s:  19%|█▊        | 935/5000 [00:00<00:03, 1097.40it/s]\u001b[A\u001b[A\u001b[A\u001b[A\u001b[A\u001b[A\n",
      "\n",
      "\n",
      "\n",
      "\n",
      "\n",
      "\n",
      "#0, est. 2.50s:  12%|█▏        | 617/5000 [00:01<00:06, 684.94it/s]s]\u001b[A\u001b[A\u001b[A\u001b[A\u001b[A\u001b[A\u001b[A\n",
      "\n",
      "\n",
      "\n",
      "\n",
      "\n",
      "\n",
      "\n",
      "#7, est. 0.56s:  23%|██▎       | 1156/5000 [00:00<00:02, 1353.42it/s]\u001b[A\u001b[A\u001b[A\u001b[A\u001b[A\u001b[A\u001b[A\u001b[A\n",
      "#1, est. 1.70s:  15%|█▌        | 770/5000 [00:01<00:05, 833.70it/s]\u001b[A\n",
      "\n",
      "\n",
      "\n",
      "\n",
      "#4, est. 0.83s:  19%|█▉        | 963/5000 [00:01<00:03, 1075.34it/s]\u001b[A\u001b[A\u001b[A\u001b[A\u001b[A\n",
      "\n",
      "#6, est. 0.62s:  24%|██▍       | 1211/5000 [00:01<00:03, 1262.73it/s]\u001b[A\u001b[A\n",
      "\n",
      "\n",
      "\n",
      "#2, est. 1.20s:  17%|█▋        | 831/5000 [00:01<00:05, 793.59it/s]\u001b[A\u001b[A\u001b[A\u001b[A\n",
      "\n",
      "\n",
      "#5, est. 0.71s:  24%|██▍       | 1222/5000 [00:01<00:03, 1113.83it/s]\u001b[A\u001b[A\u001b[A\n",
      "\n",
      "\n",
      "\n",
      "\n",
      "\n",
      "\n",
      "#0, est. 2.50s:  14%|█▍        | 689/5000 [00:01<00:07, 601.76it/s]s]\u001b[A\u001b[A\u001b[A\u001b[A\u001b[A\u001b[A\u001b[A\n",
      "\n",
      "\n",
      "\n",
      "\n",
      "\n",
      "\n",
      "\n",
      "#7, est. 0.56s:  26%|██▌       | 1296/5000 [00:01<00:03, 1201.68it/s]\u001b[A\u001b[A\u001b[A\u001b[A\u001b[A\u001b[A\u001b[A\u001b[A\n",
      "\n",
      "\n",
      "\n",
      "\n",
      "\n",
      "#3, est. 1.00s:  21%|██        | 1057/5000 [00:01<00:04, 934.18it/s]\u001b[A\u001b[A\u001b[A\u001b[A\u001b[A\u001b[A\n",
      "#1, est. 1.70s:  17%|█▋        | 857/5000 [00:01<00:05, 706.74it/s]\u001b[A\n",
      "\n",
      "\n",
      "\n",
      "\n",
      "#4, est. 0.83s:  22%|██▏       | 1076/5000 [00:01<00:04, 911.10it/s]\u001b[A\u001b[A\u001b[A\u001b[A\u001b[A\n",
      "\n",
      "\n",
      "\n",
      "#2, est. 1.20s:  18%|█▊        | 918/5000 [00:01<00:05, 769.55it/s]\u001b[A\u001b[A\u001b[A\u001b[A\n",
      "\n",
      "#6, est. 0.62s:  27%|██▋       | 1353/5000 [00:01<00:03, 1097.12it/s]\u001b[A\u001b[A\n",
      "\n",
      "\n",
      "\n",
      "\n",
      "\n",
      "\n",
      "#8, est. 0.50s:  26%|██▌       | 1293/5000 [00:01<00:03, 1141.82it/s]\u001b[A\u001b[A\u001b[A\u001b[A\u001b[A\u001b[A\u001b[A\n",
      "\n",
      "\n",
      "#0, est. 2.50s:  15%|█▌        | 756/5000 [00:01<00:06, 619.71it/s]s]\u001b[A\u001b[A\u001b[A\n",
      "\n",
      "\n",
      "\n",
      "\n",
      "\n",
      "\n",
      "\n",
      "#7, est. 0.56s:  29%|██▊       | 1435/5000 [00:01<00:02, 1251.83it/s]\u001b[A\u001b[A\u001b[A\u001b[A\u001b[A\u001b[A\u001b[A\u001b[A\n",
      "\n",
      "\n",
      "\n",
      "\n",
      "\n",
      "#3, est. 1.00s:  23%|██▎       | 1163/5000 [00:01<00:04, 951.00it/s]\u001b[A\u001b[A\u001b[A\u001b[A\u001b[A\u001b[A\n",
      "#1, est. 1.70s:  19%|█▊        | 934/5000 [00:01<00:05, 723.24it/s]\u001b[A\n",
      "\n",
      "\n",
      "\n",
      "\n"
     ]
    },
    {
     "name": "stderr",
     "output_type": "stream",
     "text": [
      "#4, est. 0.83s:  25%|██▍       | 1243/5000 [00:01<00:03, 1054.80it/s]\u001b[A\u001b[A\u001b[A\u001b[A\u001b[A\n",
      "\n",
      "\n",
      "\n",
      "#2, est. 1.20s:  22%|██▏       | 1093/5000 [00:01<00:04, 924.89it/s]\u001b[A\u001b[A\u001b[A\u001b[A\n",
      "\n",
      "#6, est. 0.62s:  32%|███▏      | 1623/5000 [00:01<00:02, 1334.32it/s]\u001b[A\u001b[A\n",
      "\n",
      "\n",
      "\n",
      "\n",
      "\n",
      "\n",
      "#8, est. 0.50s:  31%|███       | 1544/5000 [00:01<00:02, 1357.63it/s]\u001b[A\u001b[A\u001b[A\u001b[A\u001b[A\u001b[A\u001b[A\n",
      "\n",
      "\n",
      "#0, est. 2.50s:  17%|█▋        | 868/5000 [00:01<00:05, 715.14it/s]s]\u001b[A\u001b[A\u001b[A\n",
      "\n",
      "\n",
      "\n",
      "\n",
      "\n",
      "\n",
      "\n",
      "#7, est. 0.56s:  34%|███▍      | 1697/5000 [00:01<00:02, 1483.51it/s]\u001b[A\u001b[A\u001b[A\u001b[A\u001b[A\u001b[A\u001b[A\u001b[A\n",
      "\n",
      "\n",
      "\n",
      "\n",
      "\n",
      "#3, est. 1.00s:  27%|██▋       | 1365/5000 [00:01<00:03, 1130.48it/s]\u001b[A\u001b[A\u001b[A\u001b[A\u001b[A\u001b[A\n",
      "#1, est. 1.70s:  21%|██▏       | 1072/5000 [00:01<00:04, 842.63it/s]\u001b[A\n",
      "\n",
      "\n",
      "\n",
      "\n",
      "#4, est. 0.83s:  29%|██▊       | 1434/5000 [00:01<00:02, 1215.53it/s]\u001b[A\u001b[A\u001b[A\u001b[A\u001b[A\n",
      "\n",
      "\n",
      "\n",
      "#2, est. 1.20s:  24%|██▍       | 1219/5000 [00:01<00:03, 1004.68it/s]\u001b[A\u001b[A\u001b[A\u001b[A\n",
      "\n",
      "#6, est. 0.62s:  36%|███▌      | 1791/5000 [00:01<00:02, 1382.66it/s]\u001b[A\u001b[A\n",
      "\n",
      "\n",
      "\n",
      "\n",
      "\n",
      "\n",
      "#0, est. 2.50s:  19%|█▉        | 947/5000 [00:01<00:05, 707.37it/s]s]\u001b[A\u001b[A\u001b[A\u001b[A\u001b[A\u001b[A\u001b[A\n",
      "\n",
      "\n",
      "#5, est. 0.71s:  35%|███▍      | 1735/5000 [00:01<00:02, 1263.42it/s]\u001b[A\u001b[A\u001b[A\n",
      "\n",
      "\n",
      "\n",
      "\n",
      "\n",
      "\n",
      "\n",
      "#7, est. 0.56s:  37%|███▋      | 1867/5000 [00:01<00:02, 1435.29it/s]\u001b[A\u001b[A\u001b[A\u001b[A\u001b[A\u001b[A\u001b[A\u001b[A\n",
      "\n",
      "\n",
      "\n",
      "\n",
      "\n",
      "#3, est. 1.00s:  30%|██▉       | 1499/5000 [00:01<00:03, 1110.47it/s]\u001b[A\u001b[A\u001b[A\u001b[A\u001b[A\u001b[A\n",
      "#1, est. 1.70s:  23%|██▎       | 1167/5000 [00:01<00:04, 791.12it/s]\u001b[A\n",
      "\n",
      "\n",
      "\n",
      "\n",
      "#4, est. 0.83s:  32%|███▏      | 1575/5000 [00:01<00:02, 1171.41it/s]\u001b[A\u001b[A\u001b[A\u001b[A\u001b[A\n",
      "\n",
      "\n",
      "\n",
      "#2, est. 1.20s:  27%|██▋       | 1334/5000 [00:01<00:03, 988.31it/s] \u001b[A\u001b[A\u001b[A\u001b[A\n",
      "\n",
      "#6, est. 0.62s:  39%|███▉      | 1954/5000 [00:01<00:02, 1351.06it/s]\u001b[A\u001b[A\n",
      "\n",
      "\n",
      "\n",
      "\n",
      "\n",
      "\n",
      "#0, est. 2.50s:  20%|██        | 1023/5000 [00:01<00:05, 697.93it/s]]\u001b[A\u001b[A\u001b[A\u001b[A\u001b[A\u001b[A\u001b[A\n",
      "\n",
      "\n",
      "#5, est. 0.71s:  38%|███▊      | 1880/5000 [00:01<00:02, 1252.67it/s]\u001b[A\u001b[A\u001b[A\n",
      "\n",
      "\n",
      "\n",
      "\n",
      "\n",
      "\n",
      "\n",
      "#7, est. 0.56s:  41%|████      | 2026/5000 [00:01<00:02, 1405.23it/s]\u001b[A\u001b[A\u001b[A\u001b[A\u001b[A\u001b[A\u001b[A\u001b[A\n",
      "#1, est. 1.70s:  25%|██▌       | 1254/5000 [00:01<00:04, 813.07it/s]\u001b[A\n",
      "\n",
      "\n",
      "\n",
      "\n",
      "\n",
      "#3, est. 1.00s:  32%|███▎      | 1625/5000 [00:01<00:03, 1068.73it/s]\u001b[A\u001b[A\u001b[A\u001b[A\u001b[A\u001b[A\n",
      "\n",
      "\n",
      "\n",
      "\n",
      "#4, est. 0.83s:  34%|███▍      | 1706/5000 [00:01<00:02, 1191.79it/s]\u001b[A\u001b[A\u001b[A\u001b[A\u001b[A\n",
      "\n",
      "\n",
      "\n",
      "#2, est. 1.20s:  29%|██▉       | 1443/5000 [00:01<00:03, 1013.71it/s]\u001b[A\u001b[A\u001b[A\u001b[A\n",
      "\n",
      "#6, est. 0.62s:  43%|████▎     | 2154/5000 [00:01<00:01, 1496.28it/s]\u001b[A\u001b[A\n",
      "\n",
      "\n",
      "\n",
      "\n",
      "\n",
      "\n",
      "#0, est. 2.50s:  22%|██▏       | 1108/5000 [00:01<00:05, 735.45it/s]]\u001b[A\u001b[A\u001b[A\u001b[A\u001b[A\u001b[A\u001b[A\n",
      "\n",
      "\n",
      "#5, est. 0.71s:  41%|████      | 2061/5000 [00:01<00:02, 1379.60it/s]\u001b[A\u001b[A\u001b[A\n",
      "\n",
      "\n",
      "\n",
      "\n",
      "\n",
      "\n",
      "\n",
      "#7, est. 0.56s:  44%|████▍     | 2201/5000 [00:01<00:01, 1462.86it/s]\u001b[A\u001b[A\u001b[A\u001b[A\u001b[A\u001b[A\u001b[A\u001b[A\n",
      "#1, est. 1.70s:  27%|██▋       | 1345/5000 [00:01<00:04, 838.39it/s]\u001b[A\n",
      "\n",
      "\n",
      "\n",
      "\n",
      "\n",
      "#3, est. 1.00s:  35%|███▍      | 1743/5000 [00:01<00:03, 1078.63it/s]\u001b[A\u001b[A\u001b[A\u001b[A\u001b[A\u001b[A\n",
      "\n",
      "\n",
      "\n",
      "\n",
      "#4, est. 0.83s:  37%|███▋      | 1835/5000 [00:01<00:02, 1186.52it/s]\u001b[A\u001b[A\u001b[A\u001b[A\u001b[A\n",
      "\n",
      "\n",
      "\n",
      "#2, est. 1.20s:  31%|███       | 1552/5000 [00:01<00:03, 989.82it/s] \u001b[A\u001b[A\u001b[A\u001b[A\n",
      "\n",
      "#0, est. 2.50s:  24%|██▎       | 1185/5000 [00:01<00:05, 732.80it/s]]\u001b[A\u001b[A\n",
      "\n",
      "\n",
      "\n",
      "\n",
      "\n",
      "\n",
      "#8, est. 0.50s:  45%|████▍     | 2234/5000 [00:01<00:01, 1429.76it/s]\u001b[A\u001b[A\u001b[A\u001b[A\u001b[A\u001b[A\u001b[A\n",
      "\n",
      "\n",
      "#5, est. 0.71s:  44%|████▍     | 2212/5000 [00:01<00:02, 1353.92it/s]\u001b[A\u001b[A\u001b[A\n",
      "#1, est. 1.70s:  29%|██▊       | 1433/5000 [00:01<00:04, 811.24it/s]\u001b[A\n",
      "\n",
      "\n",
      "\n",
      "\n",
      "\n",
      "\n",
      "\n",
      "#7, est. 0.56s:  47%|████▋     | 2356/5000 [00:01<00:01, 1388.55it/s]\u001b[A\u001b[A\u001b[A\u001b[A\u001b[A\u001b[A\u001b[A\u001b[A\n",
      "\n",
      "\n",
      "\n",
      "\n",
      "\n",
      "#3, est. 1.00s:  37%|███▋      | 1859/5000 [00:01<00:03, 1029.29it/s]\u001b[A\u001b[A\u001b[A\u001b[A\u001b[A\u001b[A\n",
      "\n",
      "\n",
      "\n",
      "\n",
      "#4, est. 0.83s:  39%|███▉      | 1961/5000 [00:01<00:02, 1172.74it/s]\u001b[A\u001b[A\u001b[A\u001b[A\u001b[A\n",
      "\n",
      "\n",
      "\n",
      "#0, est. 2.50s:  25%|██▌       | 1261/5000 [00:01<00:05, 738.57it/s]\u001b[A\u001b[A\u001b[A\u001b[A\n",
      "\n",
      "\n",
      "\n",
      "\n",
      "\n",
      "\n",
      "#8, est. 0.50s:  48%|████▊     | 2388/5000 [00:01<00:01, 1437.68it/s]\u001b[A\u001b[A\u001b[A\u001b[A\u001b[A\u001b[A\u001b[A\n",
      "\n",
      "\n",
      "#5, est. 0.71s:  47%|████▋     | 2357/5000 [00:01<00:01, 1336.83it/s]\u001b[A\u001b[A\u001b[A\n",
      "\n",
      "#6, est. 0.62s:  50%|████▉     | 2484/5000 [00:01<00:01, 1385.65it/s]\u001b[A\u001b[A\n",
      "#1, est. 1.70s:  30%|███       | 1523/5000 [00:01<00:04, 833.88it/s]\u001b[A\n",
      "\n",
      "\n",
      "\n",
      "\n",
      "\n",
      "\n",
      "\n",
      "#7, est. 0.56s:  50%|█████     | 2502/5000 [00:01<00:01, 1401.85it/s]\u001b[A\u001b[A\u001b[A\u001b[A\u001b[A\u001b[A\u001b[A\u001b[A\n",
      "\n",
      "\n",
      "\n",
      "\n",
      "#4, est. 0.83s:  42%|████▏     | 2088/5000 [00:01<00:02, 1200.16it/s]\u001b[A\u001b[A\u001b[A\u001b[A\u001b[A\n",
      "\n",
      "\n",
      "\n",
      "\n",
      "\n",
      "#3, est. 1.00s:  40%|███▉      | 1976/5000 [00:01<00:02, 1066.40it/s]\u001b[A\u001b[A\u001b[A\u001b[A\u001b[A\u001b[A\n",
      "\n",
      "\n",
      "\n",
      "#2, est. 1.20s:  35%|███▌      | 1770/5000 [00:01<00:03, 1015.78it/s]\u001b[A\u001b[A\u001b[A\u001b[A\n",
      "\n",
      "\n",
      "\n",
      "\n",
      "\n",
      "\n",
      "#0, est. 2.50s:  27%|██▋       | 1337/5000 [00:02<00:05, 696.98it/s]]\u001b[A\u001b[A\u001b[A\u001b[A\u001b[A\u001b[A\u001b[A\n",
      "\n",
      "\n",
      "#5, est. 0.71s:  50%|█████     | 2520/5000 [00:02<00:01, 1412.16it/s]\u001b[A\u001b[A\u001b[A\n",
      "\n",
      "#6, est. 0.62s:  53%|█████▎    | 2633/5000 [00:02<00:01, 1369.22it/s]\u001b[A\u001b[A\n",
      "#1, est. 1.70s:  32%|███▏      | 1609/5000 [00:02<00:04, 808.95it/s]\u001b[A\n",
      "\n",
      "\n",
      "\n",
      "\n",
      "#4, est. 0.83s:  44%|████▍     | 2212/5000 [00:02<00:02, 1199.95it/s]\u001b[A\u001b[A\u001b[A\u001b[A\u001b[A\n",
      "\n",
      "\n",
      "\n",
      "\n",
      "\n",
      "#3, est. 1.00s:  42%|████▏     | 2087/5000 [00:02<00:02, 1036.43it/s]\u001b[A\u001b[A\u001b[A\u001b[A\u001b[A\u001b[A\n",
      "\n",
      "\n",
      "\n",
      "\n",
      "\n",
      "\n",
      "\n",
      "#7, est. 0.56s:  53%|█████▎    | 2647/5000 [00:01<00:01, 1276.36it/s]\u001b[A\u001b[A\u001b[A\u001b[A\u001b[A\u001b[A\u001b[A\u001b[A\n",
      "\n",
      "\n",
      "\n",
      "#2, est. 1.20s:  38%|███▊      | 1875/5000 [00:02<00:03, 977.13it/s] \u001b[A\u001b[A\u001b[A\u001b[A\n",
      "\n",
      "\n",
      "\n",
      "\n",
      "\n",
      "\n",
      "#0, est. 2.50s:  29%|██▊       | 1429/5000 [00:02<00:04, 749.35it/s]]\u001b[A\u001b[A\u001b[A\u001b[A\u001b[A\u001b[A\u001b[A\n",
      "\n",
      "\n",
      "#5, est. 0.71s:  54%|█████▍    | 2693/5000 [00:02<00:01, 1492.70it/s]\u001b[A\u001b[A\u001b[A\n",
      "\n",
      "#6, est. 0.62s:  56%|█████▌    | 2799/5000 [00:02<00:01, 1444.18it/s]\u001b[A\u001b[A\n",
      "#1, est. 1.70s:  34%|███▍      | 1718/5000 [00:02<00:03, 876.70it/s]\u001b[A\n",
      "\n",
      "\n",
      "\n",
      "\n",
      "#4, est. 0.83s:  47%|████▋     | 2371/5000 [00:02<00:02, 1293.70it/s]\u001b[A\u001b[A\u001b[A\u001b[A\u001b[A\n",
      "\n",
      "\n",
      "\n",
      "\n",
      "\n",
      "#3, est. 1.00s:  45%|████▍     | 2241/5000 [00:02<00:02, 1148.94it/s]\u001b[A\u001b[A\u001b[A\u001b[A\u001b[A\u001b[A\n",
      "\n",
      "\n",
      "\n",
      "#2, est. 1.20s:  41%|████      | 2028/5000 [00:02<00:02, 1095.14it/s]\u001b[A\u001b[A\u001b[A\u001b[A\n",
      "\n",
      "\n",
      "\n",
      "\n",
      "\n",
      "\n",
      "\n",
      "#7, est. 0.56s:  57%|█████▋    | 2853/5000 [00:02<00:01, 1440.64it/s]\u001b[A\u001b[A\u001b[A\u001b[A\u001b[A\u001b[A\u001b[A\u001b[A\n",
      "\n",
      "\n",
      "\n",
      "\n",
      "\n",
      "\n",
      "#0, est. 2.50s:  31%|███       | 1531/5000 [00:02<00:04, 814.06it/s]]\u001b[A\u001b[A\u001b[A\u001b[A\u001b[A\u001b[A\u001b[A\n",
      "\n",
      "\n",
      "#5, est. 0.71s:  58%|█████▊    | 2903/5000 [00:02<00:01, 1599.42it/s]\u001b[A\u001b[A\u001b[A\n",
      "\n",
      "#6, est. 0.62s:  59%|█████▉    | 2952/5000 [00:02<00:01, 1466.93it/s]\u001b[A\u001b[A\n",
      "#1, est. 1.70s:  37%|███▋      | 1839/5000 [00:02<00:03, 955.29it/s]\u001b[A\n",
      "\n",
      "\n",
      "\n",
      "\n",
      "#4, est. 0.83s:  50%|█████     | 2518/5000 [00:02<00:01, 1341.25it/s]\u001b[A\u001b[A\u001b[A\u001b[A\u001b[A\n",
      "\n",
      "\n",
      "\n",
      "\n",
      "\n",
      "#3, est. 1.00s:  47%|████▋     | 2364/5000 [00:02<00:02, 1166.91it/s]\u001b[A\u001b[A\u001b[A\u001b[A\u001b[A\u001b[A\n",
      "\n",
      "\n",
      "\n",
      "\n",
      "\n",
      "\n",
      "\n",
      "#7, est. 0.56s:  61%|██████    | 3028/5000 [00:02<00:01, 1500.94it/s]\u001b[A\u001b[A\u001b[A\u001b[A\u001b[A\u001b[A\u001b[A\u001b[A\n",
      "\n",
      "\n",
      "\n",
      "#2, est. 1.20s:  43%|████▎     | 2161/5000 [00:02<00:02, 1155.63it/s]\u001b[A\u001b[A\u001b[A\u001b[A\n",
      "\n",
      "\n",
      "\n",
      "\n",
      "\n",
      "\n",
      "#8, est. 0.50s:  64%|██████▍   | 3192/5000 [00:02<00:01, 1743.86it/s]\u001b[A\u001b[A\u001b[A\u001b[A\u001b[A\u001b[A\u001b[A\n",
      "\n",
      "#6, est. 0.62s:  62%|██████▏   | 3122/5000 [00:02<00:01, 1523.00it/s]\u001b[A\u001b[A\n",
      "\n",
      "\n",
      "#0, est. 2.50s:  32%|███▏      | 1616/5000 [00:02<00:04, 767.68it/s]]\u001b[A\u001b[A\u001b[A\n",
      "#1, est. 1.70s:  39%|███▉      | 1950/5000 [00:02<00:03, 996.35it/s]\u001b[A\n",
      "\n",
      "\n",
      "\n",
      "\n",
      "#4, est. 0.83s:  54%|█████▎    | 2683/5000 [00:02<00:01, 1413.34it/s]\u001b[A\u001b[A\u001b[A\u001b[A\u001b[A\n",
      "\n",
      "\n",
      "\n",
      "\n",
      "\n",
      "#3, est. 1.00s:  50%|█████     | 2507/5000 [00:02<00:02, 1234.40it/s]\u001b[A\u001b[A\u001b[A\u001b[A\u001b[A\u001b[A\n",
      "\n",
      "\n",
      "\n",
      "\n",
      "\n",
      "\n",
      "\n",
      "#7, est. 0.56s:  65%|██████▍   | 3233/5000 [00:02<00:01, 1631.82it/s]\u001b[A\u001b[A\u001b[A\u001b[A\u001b[A\u001b[A\u001b[A\u001b[A\n",
      "\n",
      "\n",
      "\n",
      "#2, est. 1.20s:  46%|████▌     | 2282/5000 [00:02<00:02, 1155.70it/s]\u001b[A\u001b[A\u001b[A\u001b[A\n",
      "\n",
      "#6, est. 0.62s:  67%|██████▋   | 3348/5000 [00:02<00:00, 1687.73it/s]\u001b[A\u001b[A\n",
      "\n",
      "\n",
      "\n",
      "\n",
      "\n",
      "\n",
      "#8, est. 0.50s:  69%|██████▊   | 3437/5000 [00:02<00:00, 1888.08it/s]\u001b[A\u001b[A\u001b[A\u001b[A\u001b[A\u001b[A\u001b[A\n",
      "\n",
      "\n",
      "#0, est. 2.50s:  34%|███▍      | 1707/5000 [00:02<00:04, 804.71it/s]]\u001b[A\u001b[A\u001b[A\n",
      "#1, est. 1.70s:  41%|████▏     | 2065/5000 [00:02<00:02, 1030.84it/s]\u001b[A\n",
      "\n",
      "\n",
      "\n",
      "\n",
      "#4, est. 0.83s:  57%|█████▋    | 2829/5000 [00:02<00:01, 1425.35it/s]\u001b[A\u001b[A\u001b[A\u001b[A\u001b[A\n",
      "\n",
      "\n",
      "\n",
      "\n",
      "\n",
      "#3, est. 1.00s:  53%|█████▎    | 2637/5000 [00:02<00:01, 1248.82it/s]\u001b[A\u001b[A\u001b[A\u001b[A\u001b[A\u001b[A\n",
      "\n",
      "\n",
      "\n",
      "\n",
      "\n",
      "\n",
      "\n",
      "#7, est. 0.56s:  68%|██████▊   | 3422/5000 [00:02<00:00, 1697.22it/s]\u001b[A\u001b[A\u001b[A\u001b[A\u001b[A\u001b[A\u001b[A\u001b[A\n",
      "\n",
      "\n",
      "\n",
      "#2, est. 1.20s:  48%|████▊     | 2402/5000 [00:02<00:02, 1164.09it/s]\u001b[A\u001b[A\u001b[A\u001b[A\n",
      "\n",
      "#0, est. 2.50s:  36%|███▌      | 1790/5000 [00:02<00:04, 748.45it/s]]\u001b[A\u001b[A\n",
      "\n",
      "\n",
      "\n",
      "\n",
      "#4, est. 0.83s:  59%|█████▉    | 2974/5000 [00:02<00:01, 1389.85it/s]\u001b[A\u001b[A\u001b[A\u001b[A\u001b[A\n",
      "\n",
      "\n",
      "#5, est. 0.71s:  69%|██████▉   | 3440/5000 [00:02<00:01, 1539.81it/s]\u001b[A\u001b[A\u001b[A\n",
      "\n",
      "\n",
      "\n",
      "\n",
      "\n",
      "\n",
      "#8, est. 0.50s:  73%|███████▎  | 3637/5000 [00:02<00:00, 1716.58it/s]\u001b[A\u001b[A\u001b[A\u001b[A\u001b[A\u001b[A\u001b[A\n"
     ]
    },
    {
     "name": "stderr",
     "output_type": "stream",
     "text": [
      "#1, est. 1.70s:  43%|████▎     | 2171/5000 [00:02<00:03, 913.87it/s] \u001b[A\n",
      "\n",
      "\n",
      "\n",
      "\n",
      "\n",
      "#3, est. 1.00s:  55%|█████▌    | 2765/5000 [00:02<00:01, 1157.55it/s]\u001b[A\u001b[A\u001b[A\u001b[A\u001b[A\u001b[A\n",
      "\n",
      "\n",
      "\n",
      "\n",
      "\n",
      "\n",
      "\n",
      "#7, est. 0.56s:  72%|███████▏  | 3599/5000 [00:02<00:00, 1528.65it/s]\u001b[A\u001b[A\u001b[A\u001b[A\u001b[A\u001b[A\u001b[A\u001b[A\n",
      "\n",
      "\n",
      "\n",
      "#2, est. 1.20s:  50%|█████     | 2521/5000 [00:02<00:02, 981.39it/s] \u001b[A\u001b[A\u001b[A\u001b[A\n",
      "\n",
      "#0, est. 2.50s:  37%|███▋      | 1868/5000 [00:02<00:04, 723.83it/s]]\u001b[A\u001b[A\n",
      "\n",
      "\n",
      "\n",
      "\n",
      "#4, est. 0.83s:  62%|██████▏   | 3115/5000 [00:02<00:01, 1309.14it/s]\u001b[A\u001b[A\u001b[A\u001b[A\u001b[A\n",
      "\n",
      "\n",
      "#5, est. 0.71s:  72%|███████▏  | 3600/5000 [00:02<00:00, 1407.70it/s]\u001b[A\u001b[A\u001b[A\n",
      "#1, est. 1.70s:  45%|████▌     | 2267/5000 [00:02<00:03, 888.31it/s]\u001b[A\n",
      "\n",
      "\n",
      "\n",
      "\n",
      "\n",
      "\n",
      "#8, est. 0.50s:  76%|███████▋  | 3820/5000 [00:02<00:00, 1540.03it/s]\u001b[A\u001b[A\u001b[A\u001b[A\u001b[A\u001b[A\u001b[A\n",
      "\n",
      "\n",
      "\n",
      "\n",
      "\n",
      "\n",
      "\n",
      "#7, est. 0.56s:  75%|███████▌  | 3760/5000 [00:02<00:00, 1541.63it/s]\u001b[A\u001b[A\u001b[A\u001b[A\u001b[A\u001b[A\u001b[A\u001b[A\n",
      "\n",
      "\n",
      "\n",
      "\n",
      "\n",
      "#3, est. 1.00s:  58%|█████▊    | 2885/5000 [00:02<00:02, 1040.69it/s]\u001b[A\u001b[A\u001b[A\u001b[A\u001b[A\u001b[A\n",
      "\n",
      "\n",
      "\n",
      "#0, est. 2.50s:  39%|███▉      | 1943/5000 [00:02<00:04, 725.44it/s]\u001b[A\u001b[A\u001b[A\u001b[A\n",
      "\n",
      "#6, est. 0.62s:  77%|███████▋  | 3858/5000 [00:02<00:00, 1477.55it/s]\u001b[A\u001b[A\n",
      "\n",
      "\n",
      "\n",
      "\n",
      "#4, est. 0.83s:  65%|██████▍   | 3249/5000 [00:02<00:01, 1287.91it/s]\u001b[A\u001b[A\u001b[A\u001b[A\u001b[A\n",
      "\n",
      "\n",
      "#5, est. 0.71s:  75%|███████▍  | 3747/5000 [00:02<00:00, 1364.25it/s]\u001b[A\u001b[A\u001b[A\n",
      "#1, est. 1.70s:  47%|████▋     | 2359/5000 [00:02<00:03, 844.16it/s]\u001b[A\n",
      "\n",
      "\n",
      "\n",
      "\n",
      "\n",
      "\n",
      "#8, est. 0.50s:  80%|███████▉  | 3985/5000 [00:02<00:00, 1410.37it/s]\u001b[A\u001b[A\u001b[A\u001b[A\u001b[A\u001b[A\u001b[A\n",
      "\n",
      "\n",
      "\n",
      "\n",
      "\n",
      "#3, est. 1.00s:  60%|█████▉    | 2994/5000 [00:02<00:02, 1001.80it/s]\u001b[A\u001b[A\u001b[A\u001b[A\u001b[A\u001b[A\n",
      "\n",
      "\n",
      "\n",
      "\n",
      "\n",
      "\n",
      "\n",
      "#7, est. 0.56s:  78%|███████▊  | 3920/5000 [00:02<00:00, 1401.80it/s]\u001b[A\u001b[A\u001b[A\u001b[A\u001b[A\u001b[A\u001b[A\u001b[A\n",
      "\n",
      "\n",
      "\n",
      "#0, est. 2.50s:  41%|████      | 2031/5000 [00:02<00:03, 762.80it/s]\u001b[A\u001b[A\u001b[A\u001b[A\n",
      "\n",
      "#6, est. 0.62s:  80%|████████  | 4011/5000 [00:02<00:00, 1485.30it/s]\u001b[A\u001b[A\n",
      "\n",
      "\n",
      "\n",
      "\n",
      "#4, est. 0.83s:  68%|██████▊   | 3380/5000 [00:02<00:01, 1273.60it/s]\u001b[A\u001b[A\u001b[A\u001b[A\u001b[A\n",
      "\n",
      "\n",
      "#5, est. 0.71s:  78%|███████▊  | 3922/5000 [00:02<00:00, 1460.34it/s]\u001b[A\u001b[A\u001b[A\n",
      "#1, est. 1.70s:  49%|████▉     | 2472/5000 [00:02<00:02, 908.20it/s]\u001b[A\n",
      "\n",
      "\n",
      "\n",
      "\n",
      "\n",
      "\n",
      "#8, est. 0.50s:  84%|████████▎ | 4178/5000 [00:02<00:00, 1534.01it/s]\u001b[A\u001b[A\u001b[A\u001b[A\u001b[A\u001b[A\u001b[A\n",
      "\n",
      "\n",
      "\n",
      "\n",
      "\n",
      "#3, est. 1.00s:  63%|██████▎   | 3136/5000 [00:02<00:01, 1097.70it/s]\u001b[A\u001b[A\u001b[A\u001b[A\u001b[A\u001b[A\n",
      "\n",
      "\n",
      "\n",
      "\n",
      "\n",
      "\n",
      "\n",
      "#7, est. 0.56s:  82%|████████▏ | 4102/5000 [00:02<00:00, 1505.40it/s]\u001b[A\u001b[A\u001b[A\u001b[A\u001b[A\u001b[A\u001b[A\u001b[A\n",
      "\n",
      "\n",
      "\n",
      "#0, est. 2.50s:  42%|████▏     | 2112/5000 [00:03<00:03, 772.95it/s]\u001b[A\u001b[A\u001b[A\u001b[A\n",
      "\n",
      "#6, est. 0.62s:  84%|████████▎ | 4184/5000 [00:02<00:00, 1548.73it/s]\u001b[A\u001b[A\n",
      "\n",
      "\n",
      "\n",
      "\n",
      "#4, est. 0.83s:  70%|███████   | 3514/5000 [00:02<00:01, 1288.42it/s]\u001b[A\u001b[A\u001b[A\u001b[A\u001b[A\n",
      "\n",
      "\n",
      "#5, est. 0.71s:  82%|████████▏ | 4088/5000 [00:03<00:00, 1514.82it/s]\u001b[A\u001b[A\u001b[A\n",
      "#1, est. 1.70s:  52%|█████▏    | 2589/5000 [00:03<00:02, 972.77it/s]\u001b[A\n",
      "\n",
      "\n",
      "\n",
      "\n",
      "\n",
      "\n",
      "#8, est. 0.50s:  88%|████████▊ | 4423/5000 [00:02<00:00, 1727.37it/s]\u001b[A\u001b[A\u001b[A\u001b[A\u001b[A\u001b[A\u001b[A\n",
      "\n",
      "\n",
      "\n",
      "\n",
      "\n",
      "#3, est. 1.00s:  66%|██████▌   | 3301/5000 [00:03<00:01, 1214.88it/s]\u001b[A\u001b[A\u001b[A\u001b[A\u001b[A\u001b[A\n",
      "\n",
      "\n",
      "\n",
      "\n",
      "\n",
      "\n",
      "\n",
      "#7, est. 0.56s:  87%|████████▋ | 4338/5000 [00:02<00:00, 1681.63it/s]\u001b[A\u001b[A\u001b[A\u001b[A\u001b[A\u001b[A\u001b[A\u001b[A\n",
      "\n",
      "\n",
      "\n",
      "#0, est. 2.50s:  44%|████▍     | 2191/5000 [00:03<00:03, 771.63it/s]]\u001b[A\u001b[A\u001b[A\u001b[A\n",
      "\n",
      "#6, est. 0.62s:  88%|████████▊ | 4378/5000 [00:03<00:00, 1647.50it/s]\u001b[A\u001b[A\n",
      "\n",
      "\n",
      "\n",
      "\n",
      "#4, est. 0.83s:  73%|███████▎  | 3647/5000 [00:03<00:01, 1287.18it/s]\u001b[A\u001b[A\u001b[A\u001b[A\u001b[A\n",
      "\n",
      "\n",
      "#5, est. 0.71s:  85%|████████▍ | 4244/5000 [00:03<00:00, 1522.80it/s]\u001b[A\u001b[A\u001b[A\n",
      "#1, est. 1.70s:  54%|█████▍    | 2690/5000 [00:03<00:02, 942.24it/s]\u001b[A\n",
      "\n",
      "\n",
      "\n",
      "\n",
      "\n",
      "\n",
      "#8, est. 0.50s:  92%|█████████▏| 4611/5000 [00:03<00:00, 1716.33it/s]\u001b[A\u001b[A\u001b[A\u001b[A\u001b[A\u001b[A\u001b[A\n",
      "\n",
      "\n",
      "\n",
      "\n",
      "\n",
      "#3, est. 1.00s:  69%|██████▊   | 3431/5000 [00:03<00:01, 1180.90it/s]\u001b[A\u001b[A\u001b[A\u001b[A\u001b[A\u001b[A\n",
      "\n",
      "\n",
      "\n",
      "\n",
      "\n",
      "\n",
      "\n",
      "#7, est. 0.56s:  90%|█████████ | 4518/5000 [00:03<00:00, 1627.60it/s]\u001b[A\u001b[A\u001b[A\u001b[A\u001b[A\u001b[A\u001b[A\u001b[A\n",
      "\n",
      "\n",
      "\n",
      "#0, est. 2.50s:  45%|████▌     | 2274/5000 [00:03<00:03, 786.87it/s]]\u001b[A\u001b[A\u001b[A\u001b[A\n",
      "\n",
      "#6, est. 0.62s:  91%|█████████ | 4555/5000 [00:03<00:00, 1681.77it/s]\u001b[A\u001b[A\n",
      "\n",
      "\n",
      "\n",
      "\n",
      "#4, est. 0.83s:  76%|███████▌  | 3796/5000 [00:03<00:00, 1340.86it/s]\u001b[A\u001b[A\u001b[A\u001b[A\u001b[A\n",
      "\n",
      "\n",
      "#5, est. 0.71s:  88%|████████▊ | 4407/5000 [00:03<00:00, 1542.45it/s]\u001b[A\u001b[A\u001b[A\n",
      "#1, est. 1.70s:  56%|█████▌    | 2787/5000 [00:03<00:02, 943.28it/s]\u001b[A\n",
      "\n",
      "\n",
      "\n",
      "\n",
      "\n",
      "#3, est. 1.00s:  71%|███████   | 3555/5000 [00:03<00:01, 1179.95it/s]\u001b[A\u001b[A\u001b[A\u001b[A\u001b[A\u001b[A\n",
      "\n",
      "\n",
      "\n",
      "\n",
      "\n",
      "\n",
      "#8, est. 0.50s:  96%|█████████▌| 4794/5000 [00:03<00:00, 1666.55it/s]\u001b[A\u001b[A\u001b[A\u001b[A\u001b[A\u001b[A\u001b[A\n",
      "\n",
      "\n",
      "\n",
      "#2, est. 1.20s:  64%|██████▍   | 3195/5000 [00:03<00:01, 1038.90it/s]\u001b[A\u001b[A\u001b[A\u001b[A\n",
      "\n",
      "\n",
      "\n",
      "\n",
      "\n",
      "\n",
      "\n",
      "#0, est. 2.50s:  47%|████▋     | 2354/5000 [00:03<00:03, 757.64it/s]]\u001b[A\u001b[A\u001b[A\u001b[A\u001b[A\u001b[A\u001b[A\u001b[A\n",
      "\n",
      "\n",
      "\n",
      "\n",
      "#4, est. 0.83s:  79%|███████▊  | 3932/5000 [00:03<00:00, 1341.92it/s]\u001b[A\u001b[A\u001b[A\u001b[A\u001b[A\n",
      "\n",
      "#6, est. 0.62s:  95%|█████████▍| 4727/5000 [00:03<00:00, 1601.62it/s]\u001b[A\u001b[A\n",
      "\n",
      "\n",
      "#5, est. 0.71s:  92%|█████████▏| 4575/5000 [00:03<00:00, 1578.52it/s]\u001b[A\u001b[A\u001b[A\n",
      "#1, est. 1.70s:  58%|█████▊    | 2887/5000 [00:03<00:02, 957.73it/s]\u001b[A\n",
      "\n",
      "\n",
      "\n",
      "\n",
      "\n",
      "#3, est. 1.00s:  74%|███████▍  | 3725/5000 [00:03<00:00, 1294.45it/s]\u001b[A\u001b[A\u001b[A\u001b[A\u001b[A\u001b[A\n",
      "\n",
      "\n",
      "\n",
      "\n",
      "\n",
      "\n",
      "#8, est. 0.50s: 100%|█████████▉| 4999/5000 [00:03<00:00, 1765.09it/s]\u001b[A\u001b[A\u001b[A\u001b[A\u001b[A\u001b[A\u001b[A\n",
      "\n",
      "\n",
      "\n",
      "#2, est. 1.20s:  67%|██████▋   | 3352/5000 [00:03<00:01, 1155.86it/s]\u001b[A\u001b[A\u001b[A\u001b[A\n",
      "\n",
      "\n",
      "\n",
      "\n",
      "\n",
      "\n",
      "\n",
      "#0, est. 2.50s:  49%|████▉     | 2438/5000 [00:03<00:03, 780.50it/s]]\u001b[A\u001b[A\u001b[A\u001b[A\u001b[A\u001b[A\u001b[A\u001b[A\n",
      "\n",
      "\n",
      "#5, est. 0.71s:  95%|█████████▍| 4735/5000 [00:03<00:00, 1516.79it/s]\u001b[A\u001b[A\u001b[A\n",
      "\n",
      "\n",
      "\n",
      "\n",
      "#4, est. 0.83s:  82%|████████▏ | 4096/5000 [00:03<00:00, 1400.97it/s]\u001b[A\u001b[A\u001b[A\u001b[A\u001b[A\n",
      "\n",
      "#6, est. 0.62s:  98%|█████████▊| 4890/5000 [00:03<00:00, 1568.74it/s]\u001b[A\u001b[A\n",
      "\n",
      "\n",
      "\n",
      "\n",
      "\n",
      "\n",
      "\n",
      "\u001b[A\u001b[A\u001b[A\u001b[A\u001b[A\u001b[A\u001b[A\u001b[A                                             \n",
      "#8, est. 0.50s: 100%|██████████| 5000/5000 [00:03<00:00, 1462.41it/s][A\n",
      "#7, est. 0.56s: 100%|██████████| 5000/5000 [00:03<00:00, 1475.29it/s]\n",
      "\n",
      "\n",
      "\n",
      "\n",
      "\n",
      "\n",
      "#3, est. 1.00s:  77%|███████▋  | 3861/5000 [00:03<00:00, 1253.11it/s]\u001b[A\u001b[A\u001b[A\u001b[A\u001b[A\u001b[A\n",
      "\n",
      "\n",
      "\n",
      "#0, est. 2.50s:  50%|█████     | 2517/5000 [00:03<00:03, 733.57it/s]]\u001b[A\u001b[A\u001b[A\u001b[A\n",
      "\n",
      "\n",
      "\n",
      "\n",
      "\n",
      "\u001b[A\u001b[A\u001b[A\u001b[A\u001b[A\u001b[A                                                   \n",
      "\n",
      "\n",
      "\n",
      "\n",
      "\u001b[A\u001b[A\u001b[A\u001b[A\u001b[A                                                      \n",
      "\n",
      "\n",
      "\u001b[A\u001b[A\u001b[A                                                            \n",
      "\n",
      "\n",
      "\n",
      "#6, est. 0.62s: 100%|██████████| 5000/5000 [00:03<00:00, 1410.85it/s]\n",
      "\n",
      "\n",
      "\n",
      "\n",
      "#4, est. 0.83s:  85%|████████▍ | 4238/5000 [00:03<00:00, 1307.37it/s]\u001b[A\u001b[A\u001b[A\u001b[A\n",
      "#1, est. 1.70s:  62%|██████▏   | 3101/5000 [00:03<00:01, 988.29it/s]\u001b[A\n",
      "\n",
      "#5, est. 0.71s:  98%|█████████▊| 4899/5000 [00:03<00:00, 1550.84it/s]\u001b[A\u001b[A\n",
      "\n",
      "\n",
      "\n",
      "\n",
      "\u001b[A\u001b[A\u001b[A\u001b[A\u001b[A\n",
      "\n",
      "\n",
      "\n",
      "\u001b[A\u001b[A\u001b[A\u001b[A                                                         \n",
      "\n",
      "\u001b[A\u001b[A                                                               \n",
      "\n",
      "\n",
      "\u001b[A\u001b[A\u001b[A\n",
      "                                                                    \n",
      "\n",
      "\n",
      "\n",
      "\n",
      "#3, est. 1.00s:  80%|████████  | 4007/5000 [00:03<00:00, 1307.72it/s]\u001b[A\u001b[A\u001b[A\u001b[A\u001b[A\n",
      "\n",
      "\n",
      "\n",
      "#4, est. 0.83s:  85%|████████▍ | 4238/5000 [00:03<00:00, 1307.37it/s]\u001b[A\u001b[A\u001b[A\u001b[A\n",
      "\n",
      "#5, est. 0.71s:  98%|█████████▊| 4899/5000 [00:03<00:00, 1550.84it/s]\u001b[A\u001b[A\n",
      "\n",
      "\n",
      "#2, est. 1.20s:  72%|███████▏  | 3603/5000 [00:03<00:01, 1168.08it/s]\u001b[A\u001b[A\u001b[A\n",
      "#0, est. 2.50s:  52%|█████▏    | 2622/5000 [00:03<00:02, 805.60it/s]\u001b[A\n",
      "\n",
      "\n",
      "\n",
      "\n",
      "#3, est. 1.00s:  80%|████████  | 4007/5000 [00:03<00:00, 1307.72it/s]\u001b[A\u001b[A\u001b[A\u001b[A\u001b[A\n",
      "\n",
      "\n",
      "#0, est. 2.50s:  52%|█████▏    | 2622/5000 [00:03<00:02, 805.60it/s]]\u001b[A\u001b[A\u001b[A\n",
      "\n",
      "\n",
      "\n",
      "\n",
      "\u001b[A\u001b[A\u001b[A\u001b[A\u001b[A                                                      \n",
      "\n",
      "\n",
      "\n",
      "\u001b[A\u001b[A\u001b[A\u001b[A                                                         \n",
      "\n",
      "\n",
      "\u001b[A\u001b[A\u001b[A                                                            \n",
      "\n",
      "\n",
      "#4, est. 0.83s:  87%|████████▋ | 4371/5000 [00:03<00:00, 1303.87it/s]\u001b[A\u001b[A\u001b[A\n",
      "\n",
      "\n",
      "\n",
      "\u001b[A\u001b[A\u001b[A\u001b[A\n",
      "\n",
      "\n",
      "\u001b[A\u001b[A\u001b[A                                                            \n",
      "\n",
      "\u001b[A\u001b[A\n",
      "                                                                    \n",
      "\n",
      "\n",
      "\n",
      "#3, est. 1.00s:  80%|████████  | 4007/5000 [00:03<00:00, 1307.72it/s]\u001b[A\u001b[A\u001b[A\u001b[A\n",
      "\n",
      "\n",
      "#4, est. 0.83s:  87%|████████▋ | 4371/5000 [00:03<00:00, 1303.87it/s]\u001b[A\u001b[A\u001b[A\n",
      "\n",
      "#2, est. 1.20s:  72%|███████▏  | 3603/5000 [00:03<00:01, 1168.08it/s]\u001b[A\u001b[A\n",
      "#0, est. 2.50s:  52%|█████▏    | 2622/5000 [00:03<00:02, 805.60it/s]]\u001b[A\n",
      "#5, est. 0.71s: 100%|██████████| 5000/5000 [00:03<00:00, 1341.55it/s]\u001b[A\n",
      "\n",
      "\n",
      "\n",
      "\n",
      "#3, est. 1.00s:  83%|████████▎ | 4142/5000 [00:03<00:00, 1167.20it/s]\u001b[A\u001b[A\u001b[A\u001b[A\n",
      "\n"
     ]
    },
    {
     "name": "stderr",
     "output_type": "stream",
     "text": [
      "#0, est. 2.50s:  54%|█████▍    | 2706/5000 [00:03<00:02, 765.76it/s]]\u001b[A\u001b[A\n",
      "\n",
      "\n",
      "#4, est. 0.83s:  90%|█████████ | 4503/5000 [00:03<00:00, 1212.81it/s]\u001b[A\u001b[A\u001b[A\n",
      "#1, est. 1.70s:  66%|██████▌   | 3310/5000 [00:03<00:01, 915.09it/s] \u001b[A"
     ]
    },
    {
     "name": "stdout",
     "output_type": "stream",
     "text": [
      "n == 6 completed.\n",
      "`tqdm.write()` is thread-safe in py3!\n"
     ]
    },
    {
     "name": "stderr",
     "output_type": "stream",
     "text": [
      "\n",
      "\n",
      "\n",
      "\n",
      "#3, est. 1.00s:  88%|████████▊ | 4408/5000 [00:03<00:00, 1403.31it/s]\u001b[A\u001b[A\u001b[A\u001b[A\n",
      "\n",
      "#0, est. 2.50s:  57%|█████▋    | 2837/5000 [00:03<00:02, 872.69it/s]]\u001b[A\u001b[A\n",
      "\n",
      "\n",
      "#4, est. 0.83s:  96%|█████████▋| 4824/5000 [00:03<00:00, 1491.07it/s]\u001b[A\u001b[A\u001b[A\n",
      "#1, est. 1.70s:  70%|███████   | 3506/5000 [00:03<00:01, 1088.83it/s]\u001b[A\n",
      "\n",
      "\n",
      "\n",
      "#4, est. 0.83s: 100%|██████████| 5000/5000 [00:03<00:00, 1287.61it/s]\n",
      "\n",
      "\n",
      "\n",
      "#3, est. 1.00s:  94%|█████████▍| 4715/5000 [00:03<00:00, 1676.13it/s]\u001b[A\u001b[A\u001b[A\n",
      "\n",
      "#0, est. 2.50s:  60%|█████▉    | 2986/5000 [00:03<00:02, 995.15it/s]]\u001b[A\u001b[A\n",
      "#3, est. 1.00s: 100%|██████████| 5000/5000 [00:03<00:00, 1251.75it/s]\u001b[A\n",
      "\n",
      "\n",
      "#0, est. 2.50s:  63%|██████▎   | 3142/5000 [00:04<00:01, 1115.24it/s]\u001b[A\u001b[A\n",
      "#1, est. 1.70s:  78%|███████▊  | 3914/5000 [00:04<00:00, 1423.94it/s]\u001b[A\n",
      "\n",
      "#0, est. 2.50s:  66%|██████▌   | 3289/5000 [00:04<00:01, 1198.98it/s]\u001b[A\u001b[A\n",
      "#0, est. 2.50s:  68%|██████▊   | 3425/5000 [00:04<00:01, 1241.69it/s]\u001b[A\n",
      "\n",
      "#2, est. 1.20s: 100%|██████████| 5000/5000 [00:04<00:00, 1169.42it/s]\u001b[A\u001b[A\n",
      "\n",
      "#0, est. 2.50s:  71%|███████   | 3557/5000 [00:04<00:01, 1230.36it/s]\u001b[A\n",
      "#0, est. 2.50s:  74%|███████▍  | 3705/5000 [00:04<00:01, 1294.28it/s]\u001b[A\n",
      "#0, est. 2.50s:  77%|███████▋  | 3862/5000 [00:04<00:00, 1364.33it/s]\u001b[A\n",
      "#1, est. 1.70s: 100%|██████████| 5000/5000 [00:04<00:00, 1070.65it/s]\u001b[A\n",
      "#0, est. 2.50s: 100%|██████████| 5000/5000 [00:05<00:00, 941.99it/s] \n"
     ]
    }
   ],
   "source": [
    "from time import sleep\n",
    "from tqdm import tqdm, trange\n",
    "from concurrent.futures import ThreadPoolExecutor\n",
    "\n",
    "L = list(range(9))\n",
    "\n",
    "def progresser(n):\n",
    "    interval = 0.001 / (n + 2)\n",
    "    total = 5000\n",
    "    text = \"#{}, est. {:<04.2}s\".format(n, interval * total)\n",
    "    for _ in trange(total, desc=text):\n",
    "        sleep(interval)\n",
    "    if n == 6:\n",
    "        tqdm.write(\"n == 6 completed.\")\n",
    "        tqdm.write(\"`tqdm.write()` is thread-safe in py3!\")\n",
    "\n",
    "if __name__ == '__main__':\n",
    "    with ThreadPoolExecutor() as p:\n",
    "        p.map(progresser, L)"
   ]
  },
  {
   "cell_type": "code",
   "execution_count": 32,
   "metadata": {},
   "outputs": [
    {
     "name": "stderr",
     "output_type": "stream",
     "text": [
      "/home/yoss/anaconda3/lib/python3.7/site-packages/tqdm/std.py:658: FutureWarning: The Panel class is removed from pandas. Accessing it from the top-level namespace will also be removed in the next version\n",
      "  from pandas import Panel\n",
      "my bar!: 100%|██████████| 6/6 [00:00<00:00, 225.74it/s]\n"
     ]
    },
    {
     "data": {
      "text/html": [
       "<div>\n",
       "<style scoped>\n",
       "    .dataframe tbody tr th:only-of-type {\n",
       "        vertical-align: middle;\n",
       "    }\n",
       "\n",
       "    .dataframe tbody tr th {\n",
       "        vertical-align: top;\n",
       "    }\n",
       "\n",
       "    .dataframe thead th {\n",
       "        text-align: right;\n",
       "    }\n",
       "</style>\n",
       "<table border=\"1\" class=\"dataframe\">\n",
       "  <thead>\n",
       "    <tr style=\"text-align: right;\">\n",
       "      <th></th>\n",
       "      <th>0</th>\n",
       "      <th>1</th>\n",
       "      <th>2</th>\n",
       "      <th>3</th>\n",
       "      <th>4</th>\n",
       "      <th>5</th>\n",
       "    </tr>\n",
       "  </thead>\n",
       "  <tbody>\n",
       "    <tr>\n",
       "      <th>0</th>\n",
       "      <td>9</td>\n",
       "      <td>256</td>\n",
       "      <td>49</td>\n",
       "      <td>4</td>\n",
       "      <td>225</td>\n",
       "      <td>256</td>\n",
       "    </tr>\n",
       "    <tr>\n",
       "      <th>1</th>\n",
       "      <td>49</td>\n",
       "      <td>289</td>\n",
       "      <td>9</td>\n",
       "      <td>361</td>\n",
       "      <td>81</td>\n",
       "      <td>9</td>\n",
       "    </tr>\n",
       "    <tr>\n",
       "      <th>2</th>\n",
       "      <td>64</td>\n",
       "      <td>16</td>\n",
       "      <td>196</td>\n",
       "      <td>100</td>\n",
       "      <td>36</td>\n",
       "      <td>100</td>\n",
       "    </tr>\n",
       "    <tr>\n",
       "      <th>3</th>\n",
       "      <td>25</td>\n",
       "      <td>225</td>\n",
       "      <td>64</td>\n",
       "      <td>256</td>\n",
       "      <td>0</td>\n",
       "      <td>64</td>\n",
       "    </tr>\n",
       "    <tr>\n",
       "      <th>4</th>\n",
       "      <td>289</td>\n",
       "      <td>144</td>\n",
       "      <td>169</td>\n",
       "      <td>169</td>\n",
       "      <td>121</td>\n",
       "      <td>64</td>\n",
       "    </tr>\n",
       "    <tr>\n",
       "      <th>...</th>\n",
       "      <td>...</td>\n",
       "      <td>...</td>\n",
       "      <td>...</td>\n",
       "      <td>...</td>\n",
       "      <td>...</td>\n",
       "      <td>...</td>\n",
       "    </tr>\n",
       "    <tr>\n",
       "      <th>99995</th>\n",
       "      <td>361</td>\n",
       "      <td>16</td>\n",
       "      <td>324</td>\n",
       "      <td>25</td>\n",
       "      <td>64</td>\n",
       "      <td>256</td>\n",
       "    </tr>\n",
       "    <tr>\n",
       "      <th>99996</th>\n",
       "      <td>0</td>\n",
       "      <td>225</td>\n",
       "      <td>64</td>\n",
       "      <td>324</td>\n",
       "      <td>64</td>\n",
       "      <td>256</td>\n",
       "    </tr>\n",
       "    <tr>\n",
       "      <th>99997</th>\n",
       "      <td>9</td>\n",
       "      <td>169</td>\n",
       "      <td>1</td>\n",
       "      <td>144</td>\n",
       "      <td>36</td>\n",
       "      <td>49</td>\n",
       "    </tr>\n",
       "    <tr>\n",
       "      <th>99998</th>\n",
       "      <td>1</td>\n",
       "      <td>144</td>\n",
       "      <td>324</td>\n",
       "      <td>81</td>\n",
       "      <td>49</td>\n",
       "      <td>256</td>\n",
       "    </tr>\n",
       "    <tr>\n",
       "      <th>99999</th>\n",
       "      <td>361</td>\n",
       "      <td>361</td>\n",
       "      <td>144</td>\n",
       "      <td>25</td>\n",
       "      <td>16</td>\n",
       "      <td>4</td>\n",
       "    </tr>\n",
       "  </tbody>\n",
       "</table>\n",
       "<p>100000 rows × 6 columns</p>\n",
       "</div>"
      ],
      "text/plain": [
       "         0    1    2    3    4    5\n",
       "0        9  256   49    4  225  256\n",
       "1       49  289    9  361   81    9\n",
       "2       64   16  196  100   36  100\n",
       "3       25  225   64  256    0   64\n",
       "4      289  144  169  169  121   64\n",
       "...    ...  ...  ...  ...  ...  ...\n",
       "99995  361   16  324   25   64  256\n",
       "99996    0  225   64  324   64  256\n",
       "99997    9  169    1  144   36   49\n",
       "99998    1  144  324   81   49  256\n",
       "99999  361  361  144   25   16    4\n",
       "\n",
       "[100000 rows x 6 columns]"
      ]
     },
     "execution_count": 32,
     "metadata": {},
     "output_type": "execute_result"
    }
   ],
   "source": [
    "import pandas as pd\n",
    "import numpy as np\n",
    "from tqdm import tqdm\n",
    "\n",
    "df = pd.DataFrame(np.random.randint(0, 20, (100000, 6)))\n",
    "\n",
    "# Register `pandas.progress_apply` and `pandas.Series.map_apply` with `tqdm`\n",
    "# (can use `tqdm.gui.tqdm`, `tqdm.notebook.tqdm`, optional kwargs, etc.)\n",
    "tqdm.pandas(desc=\"my bar!\")\n",
    "\n",
    "# Now you can use `progress_apply` instead of `apply`\n",
    "# and `progress_map` instead of `map`\n",
    "df.progress_apply(lambda x: x**2)\n",
    "# can also groupby:\n",
    "# df.groupby(0).progress_apply(lambda x: x**2)"
   ]
  },
  {
   "cell_type": "code",
   "execution_count": 36,
   "metadata": {},
   "outputs": [
    {
     "data": {
      "application/vnd.jupyter.widget-view+json": {
       "model_id": "d578e98ade13405cab1e6ab00f613cae",
       "version_major": 2,
       "version_minor": 0
      },
      "text/plain": [
       "HBox(children=(FloatProgress(value=0.0, description='1st loop', max=3.0, style=ProgressStyle(description_width…"
      ]
     },
     "metadata": {},
     "output_type": "display_data"
    },
    {
     "data": {
      "application/vnd.jupyter.widget-view+json": {
       "model_id": "f9e96fd643a948bda46353e96b203e77",
       "version_major": 2,
       "version_minor": 0
      },
      "text/plain": [
       "HBox(children=(FloatProgress(value=0.0, description=' 0 loop', style=ProgressStyle(description_width='initial'…"
      ]
     },
     "metadata": {},
     "output_type": "display_data"
    },
    {
     "name": "stdout",
     "output_type": "stream",
     "text": [
      "\n"
     ]
    },
    {
     "data": {
      "application/vnd.jupyter.widget-view+json": {
       "model_id": "74f9b12d266a4963b83f830a48adbb5b",
       "version_major": 2,
       "version_minor": 0
      },
      "text/plain": [
       "HBox(children=(FloatProgress(value=0.0, description=' 1 loop', style=ProgressStyle(description_width='initial'…"
      ]
     },
     "metadata": {},
     "output_type": "display_data"
    },
    {
     "name": "stdout",
     "output_type": "stream",
     "text": [
      "\n"
     ]
    },
    {
     "data": {
      "application/vnd.jupyter.widget-view+json": {
       "model_id": "58866a9b1ef3441fa45cdc8f33d42c72",
       "version_major": 2,
       "version_minor": 0
      },
      "text/plain": [
       "HBox(children=(FloatProgress(value=0.0, description=' 2 loop', style=ProgressStyle(description_width='initial'…"
      ]
     },
     "metadata": {},
     "output_type": "display_data"
    },
    {
     "name": "stdout",
     "output_type": "stream",
     "text": [
      "\n",
      "\n"
     ]
    }
   ],
   "source": [
    "from tqdm.notebook import trange, tqdm\n",
    "from time import sleep\n",
    "\n",
    "for i in trange(3, desc='1st loop'):\n",
    "    for j in tqdm(range(100), desc=f' {i} loop'):\n",
    "        sleep(0.01)"
   ]
  },
  {
   "cell_type": "code",
   "execution_count": 43,
   "metadata": {},
   "outputs": [
    {
     "name": "stderr",
     "output_type": "stream",
     "text": [
      "/home/yoss/anaconda3/lib/python3.7/site-packages/ipykernel_launcher.py:4: TqdmDeprecationWarning: This function will be removed in tqdm==5.0.0\n",
      "Please use `tqdm.notebook.tqdm` instead of `tqdm.tqdm_notebook`\n",
      "  after removing the cwd from sys.path.\n"
     ]
    },
    {
     "data": {
      "application/vnd.jupyter.widget-view+json": {
       "model_id": "184218859fe249a4ba761ad2a09d87ee",
       "version_major": 2,
       "version_minor": 0
      },
      "text/plain": [
       "HBox(children=(FloatProgress(value=0.0, description='1st_loop', max=4.0, style=ProgressStyle(description_width…"
      ]
     },
     "metadata": {},
     "output_type": "display_data"
    },
    {
     "name": "stderr",
     "output_type": "stream",
     "text": [
      "/home/yoss/anaconda3/lib/python3.7/site-packages/ipykernel_launcher.py:5: TqdmDeprecationWarning: This function will be removed in tqdm==5.0.0\n",
      "Please use `tqdm.notebook.tqdm` instead of `tqdm.tqdm_notebook`\n",
      "  \"\"\"\n"
     ]
    },
    {
     "data": {
      "application/vnd.jupyter.widget-view+json": {
       "model_id": "",
       "version_major": 2,
       "version_minor": 0
      },
      "text/plain": [
       "HBox(children=(FloatProgress(value=0.0, description='2nd_loop', style=ProgressStyle(description_width='initial…"
      ]
     },
     "metadata": {},
     "output_type": "display_data"
    },
    {
     "data": {
      "application/vnd.jupyter.widget-view+json": {
       "model_id": "",
       "version_major": 2,
       "version_minor": 0
      },
      "text/plain": [
       "HBox(children=(FloatProgress(value=0.0, description='2nd_loop', style=ProgressStyle(description_width='initial…"
      ]
     },
     "metadata": {},
     "output_type": "display_data"
    },
    {
     "data": {
      "application/vnd.jupyter.widget-view+json": {
       "model_id": "",
       "version_major": 2,
       "version_minor": 0
      },
      "text/plain": [
       "HBox(children=(FloatProgress(value=0.0, description='2nd_loop', style=ProgressStyle(description_width='initial…"
      ]
     },
     "metadata": {},
     "output_type": "display_data"
    },
    {
     "data": {
      "application/vnd.jupyter.widget-view+json": {
       "model_id": "",
       "version_major": 2,
       "version_minor": 0
      },
      "text/plain": [
       "HBox(children=(FloatProgress(value=0.0, description='2nd_loop', style=ProgressStyle(description_width='initial…"
      ]
     },
     "metadata": {},
     "output_type": "display_data"
    },
    {
     "name": "stdout",
     "output_type": "stream",
     "text": [
      "\n"
     ]
    }
   ],
   "source": [
    "from tqdm import tnrange, tqdm_notebook\n",
    "from time import sleep\n",
    "\n",
    "for i in tqdm_notebook(range(4), desc = '1st_loop'):\n",
    "    for j in tqdm_notebook(range(100), desc = '2nd_loop', leave = False):\n",
    "        sleep(0.01)"
   ]
  },
  {
   "cell_type": "code",
   "execution_count": 44,
   "metadata": {},
   "outputs": [],
   "source": [
    "from tqdm import tqdm\n",
    "import os.path\n",
    "\n",
    "def find_files_recursively(path, show_progress=True):\n",
    "    files = []\n",
    "    # total=1 assumes `path` is a file\n",
    "    t = tqdm(total=1, unit=\"file\", disable=not show_progress)\n",
    "    if not os.path.exists(path):\n",
    "        raise IOError(\"Cannot find:\" + path)\n",
    "\n",
    "    def append_found_file(f):\n",
    "        files.append(f)\n",
    "        t.update()\n",
    "\n",
    "    def list_found_dir(path):\n",
    "        \"\"\"returns os.listdir(path) assuming os.path.isdir(path)\"\"\"\n",
    "        listing = os.listdir(path)\n",
    "        # subtract 1 since a \"file\" we found was actually this directory\n",
    "        t.total += len(listing) - 1\n",
    "        # fancy way to give info without forcing a refresh\n",
    "        t.set_postfix(dir=path[-10:], refresh=False)\n",
    "        t.update(0)  # may trigger a refresh\n",
    "        return listing\n",
    "\n",
    "    def recursively_search(path):\n",
    "        if os.path.isdir(path):\n",
    "            for f in list_found_dir(path):\n",
    "                recursively_search(os.path.join(path, f))\n",
    "        else:\n",
    "            append_found_file(path)\n",
    "\n",
    "    recursively_search(path)\n",
    "    t.set_postfix(dir=path)\n",
    "    t.close()\n",
    "    return files"
   ]
  },
  {
   "cell_type": "code",
   "execution_count": 50,
   "metadata": {},
   "outputs": [
    {
     "name": "stderr",
     "output_type": "stream",
     "text": [
      "\n",
      "  0%|          | 0/1 [00:00<?, ?file/s]\u001b[A\n",
      "100%|██████████| 162/162 [00:00<00:00, 17911.15file/s, dir=/bin/]\u001b[A\n"
     ]
    },
    {
     "data": {
      "text/plain": [
       "['/bin/brltty',\n",
       " '/bin/busybox',\n",
       " '/bin/ntfsmove',\n",
       " '/bin/grep',\n",
       " '/bin/wdctl',\n",
       " '/bin/readlink',\n",
       " '/bin/ntfstruncate',\n",
       " '/bin/openvt',\n",
       " '/bin/setfont',\n",
       " '/bin/zmore',\n",
       " '/bin/netcat',\n",
       " '/bin/pidof',\n",
       " '/bin/gzexe',\n",
       " '/bin/zegrep',\n",
       " '/bin/systemd-tmpfiles',\n",
       " '/bin/open',\n",
       " '/bin/date',\n",
       " '/bin/bzgrep',\n",
       " '/bin/zgrep',\n",
       " '/bin/fuser',\n",
       " '/bin/systemd-inhibit',\n",
       " '/bin/gzip',\n",
       " '/bin/dumpkeys',\n",
       " '/bin/unicode_start',\n",
       " '/bin/mountpoint',\n",
       " '/bin/dash',\n",
       " '/bin/egrep',\n",
       " '/bin/run-parts',\n",
       " '/bin/lsblk',\n",
       " '/bin/getfacl',\n",
       " '/bin/systemd-notify',\n",
       " '/bin/fgrep',\n",
       " '/bin/ntfs-3g',\n",
       " '/bin/systemd',\n",
       " '/bin/zcat',\n",
       " '/bin/mkdir',\n",
       " '/bin/mv',\n",
       " '/bin/pwd',\n",
       " '/bin/zdiff',\n",
       " '/bin/findmnt',\n",
       " '/bin/nano',\n",
       " '/bin/ntfsls',\n",
       " '/bin/sed',\n",
       " '/bin/which',\n",
       " '/bin/bzfgrep',\n",
       " '/bin/ntfscmp',\n",
       " '/bin/ntfsrecover',\n",
       " '/bin/bzcmp',\n",
       " '/bin/efibootmgr',\n",
       " '/bin/mt',\n",
       " '/bin/systemctl',\n",
       " '/bin/dnsdomainname',\n",
       " '/bin/lesspipe',\n",
       " '/bin/systemd-ask-password',\n",
       " '/bin/bzcat',\n",
       " '/bin/ps',\n",
       " '/bin/tar',\n",
       " '/bin/systemd-tty-ask-password-agent',\n",
       " '/bin/ed',\n",
       " '/bin/true',\n",
       " '/bin/cat',\n",
       " '/bin/stty',\n",
       " '/bin/znew',\n",
       " '/bin/zless',\n",
       " '/bin/cpio',\n",
       " '/bin/ntfsinfo',\n",
       " '/bin/ping6',\n",
       " '/bin/whiptail',\n",
       " '/bin/nc.openbsd',\n",
       " '/bin/rmdir',\n",
       " '/bin/loadkeys',\n",
       " '/bin/systemd-machine-id-setup',\n",
       " '/bin/mknod',\n",
       " '/bin/bzdiff',\n",
       " '/bin/bzip2',\n",
       " '/bin/lowntfs-3g',\n",
       " '/bin/ping',\n",
       " '/bin/ping4',\n",
       " '/bin/kmod',\n",
       " '/bin/plymouth',\n",
       " '/bin/sync',\n",
       " '/bin/false',\n",
       " '/bin/vdir',\n",
       " '/bin/lesskey',\n",
       " '/bin/dd',\n",
       " '/bin/more',\n",
       " '/bin/mount',\n",
       " '/bin/ip',\n",
       " '/bin/networkctl',\n",
       " '/bin/gunzip',\n",
       " '/bin/uncompress',\n",
       " '/bin/static-sh',\n",
       " '/bin/nc',\n",
       " '/bin/kill',\n",
       " '/bin/mktemp',\n",
       " '/bin/bzmore',\n",
       " '/bin/journalctl',\n",
       " '/bin/dir',\n",
       " '/bin/ntfswipe',\n",
       " '/bin/mt-gnu',\n",
       " '/bin/chacl',\n",
       " '/bin/setupcon',\n",
       " '/bin/tempfile',\n",
       " '/bin/less',\n",
       " '/bin/ntfsfallocate',\n",
       " '/bin/chgrp',\n",
       " '/bin/loginctl',\n",
       " '/bin/ntfsfix',\n",
       " '/bin/umount',\n",
       " '/bin/rnano',\n",
       " '/bin/df',\n",
       " '/bin/udevadm',\n",
       " '/bin/bzegrep',\n",
       " '/bin/fusermount',\n",
       " '/bin/systemd-hwdb',\n",
       " '/bin/bzless',\n",
       " '/bin/ntfscluster',\n",
       " '/bin/domainname',\n",
       " '/bin/zcmp',\n",
       " '/bin/nisdomainname',\n",
       " '/bin/chvt',\n",
       " '/bin/ss',\n",
       " '/bin/systemd-sysusers',\n",
       " '/bin/sh.distrib',\n",
       " '/bin/uname',\n",
       " '/bin/bzip2recover',\n",
       " '/bin/systemd-escape',\n",
       " '/bin/sleep',\n",
       " '/bin/ntfscat',\n",
       " '/bin/ulockmgr_server',\n",
       " '/bin/fgconsole',\n",
       " '/bin/touch',\n",
       " '/bin/bunzip2',\n",
       " '/bin/login',\n",
       " '/bin/hostname',\n",
       " '/bin/zforce',\n",
       " '/bin/efibootdump',\n",
       " '/bin/su',\n",
       " '/bin/lessecho',\n",
       " '/bin/cp',\n",
       " '/bin/ypdomainname',\n",
       " '/bin/lsmod',\n",
       " '/bin/sh',\n",
       " '/bin/red',\n",
       " '/bin/rm',\n",
       " '/bin/dmesg',\n",
       " '/bin/kbd_mode',\n",
       " '/bin/chown',\n",
       " '/bin/ntfs-3g.probe',\n",
       " '/bin/ln',\n",
       " '/bin/lessfile',\n",
       " '/bin/ntfssecaudit',\n",
       " '/bin/bzexe',\n",
       " '/bin/bash',\n",
       " '/bin/hciconfig',\n",
       " '/bin/ntfsusermap',\n",
       " '/bin/echo',\n",
       " '/bin/setfacl',\n",
       " '/bin/rbash',\n",
       " '/bin/ls',\n",
       " '/bin/zfgrep',\n",
       " '/bin/chmod']"
      ]
     },
     "execution_count": 50,
     "metadata": {},
     "output_type": "execute_result"
    }
   ],
   "source": [
    "find_files_recursively('/bin/')"
   ]
  },
  {
   "cell_type": "code",
   "execution_count": 52,
   "metadata": {},
   "outputs": [
    {
     "data": {
      "application/vnd.jupyter.widget-view+json": {
       "model_id": "02cc058ab52d4950b85232c0e52047f5",
       "version_major": 2,
       "version_minor": 0
      },
      "text/plain": [
       "HBox(children=(FloatProgress(value=0.0, max=10.0), HTML(value='')))"
      ]
     },
     "metadata": {},
     "output_type": "display_data"
    },
    {
     "name": "stdout",
     "output_type": "stream",
     "text": [
      "0\n",
      "Done task 0\n",
      "3\n",
      "Done task 3\n",
      "6\n",
      "Done task 6\n",
      "9\n",
      "Done task 9\n",
      "\n"
     ]
    }
   ],
   "source": [
    "from tqdm.auto import tqdm, trange\n",
    "from time import sleep\n",
    "\n",
    "bar = trange(10)\n",
    "for i in bar:\n",
    "    # Print using tqdm class method .write()\n",
    "    sleep(0.1)\n",
    "    if not (i % 3):\n",
    "        print(i)\n",
    "        tqdm.write(\"Done task %i\" % i)\n",
    "    # Can also use bar.write()"
   ]
  },
  {
   "cell_type": "code",
   "execution_count": 53,
   "metadata": {},
   "outputs": [
    {
     "name": "stdout",
     "output_type": "stream",
     "text": [
      "\n",
      "  0%|          | 0/3 [00:00<?, ?it/s]\u001b[A\n",
      "\u001b[A                                  Fee,\n",
      "\n",
      "  0%|          | 0/3 [00:00<?, ?it/s]\u001b[A\n",
      " 33%|███▎      | 1/3 [00:00<00:01,  1.96it/s]\u001b[A\n",
      "\u001b[A                                          fi,\n",
      "\n",
      " 33%|███▎      | 1/3 [00:01<00:01,  1.96it/s]\u001b[A\n",
      " 67%|██████▋   | 2/3 [00:01<00:00,  1.94it/s]\u001b[A\n",
      "\u001b[A                                          fo,\n",
      "\n",
      " 67%|██████▋   | 2/3 [00:01<00:00,  1.94it/s]\u001b[A\n",
      "100%|██████████| 3/3 [00:01<00:00,  1.91it/s]\u001b[A\n",
      "Done!\n"
     ]
    }
   ],
   "source": [
    "\n",
    "from time import sleep\n",
    "import contextlib\n",
    "import sys\n",
    "from tqdm import tqdm\n",
    "from tqdm.contrib import DummyTqdmFile\n",
    "\n",
    "\n",
    "@contextlib.contextmanager\n",
    "def std_out_err_redirect_tqdm():\n",
    "    orig_out_err = sys.stdout, sys.stderr\n",
    "    try:\n",
    "        sys.stdout, sys.stderr = map(DummyTqdmFile, orig_out_err)\n",
    "        yield orig_out_err[0]\n",
    "    # Relay exceptions\n",
    "    except Exception as exc:\n",
    "        raise exc\n",
    "    # Always restore sys.stdout/err if necessary\n",
    "    finally:\n",
    "        sys.stdout, sys.stderr = orig_out_err\n",
    "\n",
    "def some_fun(i):\n",
    "    print(\"Fee, fi, fo,\".split()[i])\n",
    "\n",
    "# Redirect stdout to tqdm.write() (don't forget the `as save_stdout`)\n",
    "with std_out_err_redirect_tqdm() as orig_stdout:\n",
    "    # tqdm needs the original stdout\n",
    "    # and dynamic_ncols=True to autodetect console width\n",
    "    for i in tqdm(range(3), file=orig_stdout, dynamic_ncols=True):\n",
    "        sleep(.5)\n",
    "        some_fun(i)\n",
    "\n",
    "# After the `with`, printing is restored\n",
    "print(\"Done!\")"
   ]
  },
  {
   "cell_type": "code",
   "execution_count": null,
   "metadata": {},
   "outputs": [],
   "source": []
  }
 ],
 "metadata": {
  "kernelspec": {
   "display_name": "Python 3",
   "language": "python",
   "name": "python3"
  },
  "language_info": {
   "codemirror_mode": {
    "name": "ipython",
    "version": 3
   },
   "file_extension": ".py",
   "mimetype": "text/x-python",
   "name": "python",
   "nbconvert_exporter": "python",
   "pygments_lexer": "ipython3",
   "version": "3.7.6"
  }
 },
 "nbformat": 4,
 "nbformat_minor": 4
}
